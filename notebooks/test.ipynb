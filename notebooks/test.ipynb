{
 "cells": [
  {
   "cell_type": "markdown",
   "metadata": {},
   "source": [
    "# Mitlab\n",
    "\n",
    "- todo add source"
   ]
  },
  {
   "cell_type": "code",
   "execution_count": 1,
   "metadata": {},
   "outputs": [
    {
     "data": {
      "text/html": [
       "        <script type=\"text/javascript\">\n",
       "        window.PlotlyConfig = {MathJaxConfig: 'local'};\n",
       "        if (window.MathJax) {MathJax.Hub.Config({SVG: {font: \"STIX-Web\"}});}\n",
       "        if (typeof require !== 'undefined') {\n",
       "        require.undef(\"plotly\");\n",
       "        requirejs.config({\n",
       "            paths: {\n",
       "                'plotly': ['https://cdn.plot.ly/plotly-latest.min']\n",
       "            }\n",
       "        });\n",
       "        require(['plotly'], function(Plotly) {\n",
       "            window._Plotly = Plotly;\n",
       "        });\n",
       "        }\n",
       "        </script>\n",
       "        "
      ]
     },
     "metadata": {},
     "output_type": "display_data"
    }
   ],
   "source": [
    "import sys\n",
    "sys.path.append(\"../\")\n",
    "import pandas as pd\n",
    "import matplotlib.pyplot as plt\n",
    "import plotly\n",
    "plotly.offline.init_notebook_mode(connected=True)\n",
    "import pyadlml\n",
    "import numpy as np\n",
    "from pyadlml.dataset import set_data_home, fetch_mitlab\n",
    "\n",
    "set_data_home('/home/chris/code/adlml/data_home')\n",
    "data = fetch_mitlab(keep_original=True, cache=True, subject='subject1')"
   ]
  },
  {
   "cell_type": "code",
   "execution_count": null,
   "metadata": {},
   "outputs": [],
   "source": []
  },
  {
   "cell_type": "code",
   "execution_count": 2,
   "metadata": {},
   "outputs": [],
   "source": [
    "from pyadlml.dataset.stats import contingency_table_triggers, contingency_intervals, contingency_table_triggers_01\n",
    "con_trigg = contingency_table_triggers(data.df_devices, data.df_activities)\n",
    "con_trigg_01 = contingency_table_triggers_01(data.df_devices, data.df_activities)\n",
    "#con_int = contingency_intervals(data.df_devices, data.df_activities)"
   ]
  },
  {
   "cell_type": "code",
   "execution_count": 3,
   "metadata": {},
   "outputs": [
    {
     "ename": "FileNotFoundError",
     "evalue": "[Errno 2] No such file or directory: '/tmp/text.csv'",
     "output_type": "error",
     "traceback": [
      "\u001b[0;31m---------------------------------------------------------------------------\u001b[0m",
      "\u001b[0;31mFileNotFoundError\u001b[0m                         Traceback (most recent call last)",
      "\u001b[0;32m<ipython-input-3-67816eff6e0b>\u001b[0m in \u001b[0;36m<module>\u001b[0;34m\u001b[0m\n\u001b[1;32m      1\u001b[0m \u001b[0;31m#con_trigg.to_csv('/tmp/text.csv')\u001b[0m\u001b[0;34m\u001b[0m\u001b[0;34m\u001b[0m\u001b[0;34m\u001b[0m\u001b[0m\n\u001b[0;32m----> 2\u001b[0;31m \u001b[0mcon_trigg\u001b[0m \u001b[0;34m=\u001b[0m \u001b[0mpd\u001b[0m\u001b[0;34m.\u001b[0m\u001b[0mread_csv\u001b[0m\u001b[0;34m(\u001b[0m\u001b[0;34m'/tmp/text.csv'\u001b[0m\u001b[0;34m,\u001b[0m \u001b[0mindex_col\u001b[0m\u001b[0;34m=\u001b[0m\u001b[0;36m0\u001b[0m\u001b[0;34m)\u001b[0m\u001b[0;34m\u001b[0m\u001b[0;34m\u001b[0m\u001b[0m\n\u001b[0m",
      "\u001b[0;32m~/Desktop/code/adlml/pyadlml/venv_pyadlml/lib/python3.9/site-packages/pandas/io/parsers.py\u001b[0m in \u001b[0;36mread_csv\u001b[0;34m(filepath_or_buffer, sep, delimiter, header, names, index_col, usecols, squeeze, prefix, mangle_dupe_cols, dtype, engine, converters, true_values, false_values, skipinitialspace, skiprows, skipfooter, nrows, na_values, keep_default_na, na_filter, verbose, skip_blank_lines, parse_dates, infer_datetime_format, keep_date_col, date_parser, dayfirst, cache_dates, iterator, chunksize, compression, thousands, decimal, lineterminator, quotechar, quoting, doublequote, escapechar, comment, encoding, dialect, error_bad_lines, warn_bad_lines, delim_whitespace, low_memory, memory_map, float_precision)\u001b[0m\n\u001b[1;32m    686\u001b[0m     )\n\u001b[1;32m    687\u001b[0m \u001b[0;34m\u001b[0m\u001b[0m\n\u001b[0;32m--> 688\u001b[0;31m     \u001b[0;32mreturn\u001b[0m \u001b[0m_read\u001b[0m\u001b[0;34m(\u001b[0m\u001b[0mfilepath_or_buffer\u001b[0m\u001b[0;34m,\u001b[0m \u001b[0mkwds\u001b[0m\u001b[0;34m)\u001b[0m\u001b[0;34m\u001b[0m\u001b[0;34m\u001b[0m\u001b[0m\n\u001b[0m\u001b[1;32m    689\u001b[0m \u001b[0;34m\u001b[0m\u001b[0m\n\u001b[1;32m    690\u001b[0m \u001b[0;34m\u001b[0m\u001b[0m\n",
      "\u001b[0;32m~/Desktop/code/adlml/pyadlml/venv_pyadlml/lib/python3.9/site-packages/pandas/io/parsers.py\u001b[0m in \u001b[0;36m_read\u001b[0;34m(filepath_or_buffer, kwds)\u001b[0m\n\u001b[1;32m    452\u001b[0m \u001b[0;34m\u001b[0m\u001b[0m\n\u001b[1;32m    453\u001b[0m     \u001b[0;31m# Create the parser.\u001b[0m\u001b[0;34m\u001b[0m\u001b[0;34m\u001b[0m\u001b[0;34m\u001b[0m\u001b[0m\n\u001b[0;32m--> 454\u001b[0;31m     \u001b[0mparser\u001b[0m \u001b[0;34m=\u001b[0m \u001b[0mTextFileReader\u001b[0m\u001b[0;34m(\u001b[0m\u001b[0mfp_or_buf\u001b[0m\u001b[0;34m,\u001b[0m \u001b[0;34m**\u001b[0m\u001b[0mkwds\u001b[0m\u001b[0;34m)\u001b[0m\u001b[0;34m\u001b[0m\u001b[0;34m\u001b[0m\u001b[0m\n\u001b[0m\u001b[1;32m    455\u001b[0m \u001b[0;34m\u001b[0m\u001b[0m\n\u001b[1;32m    456\u001b[0m     \u001b[0;32mif\u001b[0m \u001b[0mchunksize\u001b[0m \u001b[0;32mor\u001b[0m \u001b[0miterator\u001b[0m\u001b[0;34m:\u001b[0m\u001b[0;34m\u001b[0m\u001b[0;34m\u001b[0m\u001b[0m\n",
      "\u001b[0;32m~/Desktop/code/adlml/pyadlml/venv_pyadlml/lib/python3.9/site-packages/pandas/io/parsers.py\u001b[0m in \u001b[0;36m__init__\u001b[0;34m(self, f, engine, **kwds)\u001b[0m\n\u001b[1;32m    946\u001b[0m             \u001b[0mself\u001b[0m\u001b[0;34m.\u001b[0m\u001b[0moptions\u001b[0m\u001b[0;34m[\u001b[0m\u001b[0;34m\"has_index_names\"\u001b[0m\u001b[0;34m]\u001b[0m \u001b[0;34m=\u001b[0m \u001b[0mkwds\u001b[0m\u001b[0;34m[\u001b[0m\u001b[0;34m\"has_index_names\"\u001b[0m\u001b[0;34m]\u001b[0m\u001b[0;34m\u001b[0m\u001b[0;34m\u001b[0m\u001b[0m\n\u001b[1;32m    947\u001b[0m \u001b[0;34m\u001b[0m\u001b[0m\n\u001b[0;32m--> 948\u001b[0;31m         \u001b[0mself\u001b[0m\u001b[0;34m.\u001b[0m\u001b[0m_make_engine\u001b[0m\u001b[0;34m(\u001b[0m\u001b[0mself\u001b[0m\u001b[0;34m.\u001b[0m\u001b[0mengine\u001b[0m\u001b[0;34m)\u001b[0m\u001b[0;34m\u001b[0m\u001b[0;34m\u001b[0m\u001b[0m\n\u001b[0m\u001b[1;32m    949\u001b[0m \u001b[0;34m\u001b[0m\u001b[0m\n\u001b[1;32m    950\u001b[0m     \u001b[0;32mdef\u001b[0m \u001b[0mclose\u001b[0m\u001b[0;34m(\u001b[0m\u001b[0mself\u001b[0m\u001b[0;34m)\u001b[0m\u001b[0;34m:\u001b[0m\u001b[0;34m\u001b[0m\u001b[0;34m\u001b[0m\u001b[0m\n",
      "\u001b[0;32m~/Desktop/code/adlml/pyadlml/venv_pyadlml/lib/python3.9/site-packages/pandas/io/parsers.py\u001b[0m in \u001b[0;36m_make_engine\u001b[0;34m(self, engine)\u001b[0m\n\u001b[1;32m   1178\u001b[0m     \u001b[0;32mdef\u001b[0m \u001b[0m_make_engine\u001b[0m\u001b[0;34m(\u001b[0m\u001b[0mself\u001b[0m\u001b[0;34m,\u001b[0m \u001b[0mengine\u001b[0m\u001b[0;34m=\u001b[0m\u001b[0;34m\"c\"\u001b[0m\u001b[0;34m)\u001b[0m\u001b[0;34m:\u001b[0m\u001b[0;34m\u001b[0m\u001b[0;34m\u001b[0m\u001b[0m\n\u001b[1;32m   1179\u001b[0m         \u001b[0;32mif\u001b[0m \u001b[0mengine\u001b[0m \u001b[0;34m==\u001b[0m \u001b[0;34m\"c\"\u001b[0m\u001b[0;34m:\u001b[0m\u001b[0;34m\u001b[0m\u001b[0;34m\u001b[0m\u001b[0m\n\u001b[0;32m-> 1180\u001b[0;31m             \u001b[0mself\u001b[0m\u001b[0;34m.\u001b[0m\u001b[0m_engine\u001b[0m \u001b[0;34m=\u001b[0m \u001b[0mCParserWrapper\u001b[0m\u001b[0;34m(\u001b[0m\u001b[0mself\u001b[0m\u001b[0;34m.\u001b[0m\u001b[0mf\u001b[0m\u001b[0;34m,\u001b[0m \u001b[0;34m**\u001b[0m\u001b[0mself\u001b[0m\u001b[0;34m.\u001b[0m\u001b[0moptions\u001b[0m\u001b[0;34m)\u001b[0m\u001b[0;34m\u001b[0m\u001b[0;34m\u001b[0m\u001b[0m\n\u001b[0m\u001b[1;32m   1181\u001b[0m         \u001b[0;32melse\u001b[0m\u001b[0;34m:\u001b[0m\u001b[0;34m\u001b[0m\u001b[0;34m\u001b[0m\u001b[0m\n\u001b[1;32m   1182\u001b[0m             \u001b[0;32mif\u001b[0m \u001b[0mengine\u001b[0m \u001b[0;34m==\u001b[0m \u001b[0;34m\"python\"\u001b[0m\u001b[0;34m:\u001b[0m\u001b[0;34m\u001b[0m\u001b[0;34m\u001b[0m\u001b[0m\n",
      "\u001b[0;32m~/Desktop/code/adlml/pyadlml/venv_pyadlml/lib/python3.9/site-packages/pandas/io/parsers.py\u001b[0m in \u001b[0;36m__init__\u001b[0;34m(self, src, **kwds)\u001b[0m\n\u001b[1;32m   2008\u001b[0m         \u001b[0mkwds\u001b[0m\u001b[0;34m[\u001b[0m\u001b[0;34m\"usecols\"\u001b[0m\u001b[0;34m]\u001b[0m \u001b[0;34m=\u001b[0m \u001b[0mself\u001b[0m\u001b[0;34m.\u001b[0m\u001b[0musecols\u001b[0m\u001b[0;34m\u001b[0m\u001b[0;34m\u001b[0m\u001b[0m\n\u001b[1;32m   2009\u001b[0m \u001b[0;34m\u001b[0m\u001b[0m\n\u001b[0;32m-> 2010\u001b[0;31m         \u001b[0mself\u001b[0m\u001b[0;34m.\u001b[0m\u001b[0m_reader\u001b[0m \u001b[0;34m=\u001b[0m \u001b[0mparsers\u001b[0m\u001b[0;34m.\u001b[0m\u001b[0mTextReader\u001b[0m\u001b[0;34m(\u001b[0m\u001b[0msrc\u001b[0m\u001b[0;34m,\u001b[0m \u001b[0;34m**\u001b[0m\u001b[0mkwds\u001b[0m\u001b[0;34m)\u001b[0m\u001b[0;34m\u001b[0m\u001b[0;34m\u001b[0m\u001b[0m\n\u001b[0m\u001b[1;32m   2011\u001b[0m         \u001b[0mself\u001b[0m\u001b[0;34m.\u001b[0m\u001b[0munnamed_cols\u001b[0m \u001b[0;34m=\u001b[0m \u001b[0mself\u001b[0m\u001b[0;34m.\u001b[0m\u001b[0m_reader\u001b[0m\u001b[0;34m.\u001b[0m\u001b[0munnamed_cols\u001b[0m\u001b[0;34m\u001b[0m\u001b[0;34m\u001b[0m\u001b[0m\n\u001b[1;32m   2012\u001b[0m \u001b[0;34m\u001b[0m\u001b[0m\n",
      "\u001b[0;32mpandas/_libs/parsers.pyx\u001b[0m in \u001b[0;36mpandas._libs.parsers.TextReader.__cinit__\u001b[0;34m()\u001b[0m\n",
      "\u001b[0;32mpandas/_libs/parsers.pyx\u001b[0m in \u001b[0;36mpandas._libs.parsers.TextReader._setup_parser_source\u001b[0;34m()\u001b[0m\n",
      "\u001b[0;31mFileNotFoundError\u001b[0m: [Errno 2] No such file or directory: '/tmp/text.csv'"
     ]
    }
   ],
   "source": [
    "#con_trigg.to_csv('/tmp/text.csv')\n",
    "con_trigg = pd.read_csv('/tmp/text.csv', index_col=0)"
   ]
  },
  {
   "cell_type": "code",
   "execution_count": null,
   "metadata": {},
   "outputs": [],
   "source": [
    "a = np.array(['a','b','c'])\n",
    "np.append(a,np.array([\"\"]))"
   ]
  },
  {
   "cell_type": "code",
   "execution_count": null,
   "metadata": {},
   "outputs": [],
   "source": [
    "import numpy as np\n",
    "from sklearn.linear_model import LinearRegression"
   ]
  },
  {
   "cell_type": "raw",
   "metadata": {},
   "source": [
    "X = np.array([[3,3],[5,3],[5,8],[3,10],[8,10],[8,14],[5,10],[8,20],[8,30],[10,10],[15,35],[20,20],[15,20],[10,5],[12,35],[5,15],[5,20],[10,20],[10,30]])\n",
    "y = np.array([[8,2],[8,3],[8,3],[8,4], [8,5], [8,5], [9,5], [10,4],[13,4],[7,7],  [14,4], [10,8], [11,6], [10,6],[14,4], [10,6],[12,6],[10,6],[13,8]])\n",
    "print(X.shape)\n",
    "print(y.shape)\n",
    "w = y.T[0]\n",
    "h = y.T[1]\n",
    "#lr_h = LinearRegression().fit(X, h)\n",
    "lr_w = LinearRegression().fit(X, w)\n",
    "print('w = {:.5f}*n_a + {:.5g}*n_b + {:.5f}'.format(lr_w.coef_[0],lr_w.coef_[1], lr_w.intercept_))\n",
    "print('h = {:.5f}*n_a + {:.5f}*n_b + {:.5f}'.format(lr_h.coef_[0],lr_h.coef_[1], lr_h.intercept_))"
   ]
  },
  {
   "cell_type": "raw",
   "metadata": {},
   "source": [
    "ax1 = plt.subplot(221)\n",
    "ax1.scatter(X.T[0], w, alpha=0.5, color='r')\n",
    "ax1.set_title('x1 v. w')\n",
    "ax2 = plt.subplot(222)\n",
    "ax2.scatter(X.T[0], h, alpha=0.5,color='g')\n",
    "ax2.set_title('x1 v. h')\n",
    "ax3 = plt.subplot(223)\n",
    "ax3.scatter(X.T[1], w, alpha=0.5,color='b')\n",
    "ax3.set_title('x2 v. w')\n",
    "ax4 = plt.subplot(224)\n",
    "ax4.scatter(X.T[1], h, alpha=0.5,color='black')\n",
    "ax4.set_title('x2 v. h')\n",
    "plt.tight_layout()"
   ]
  },
  {
   "cell_type": "raw",
   "metadata": {},
   "source": [
    "X = np.array([[20,36],[10,36],[4,36],[8,36],[8,45],[15,45],[20,45],[20,50],[10,50],[5,50],[8,50],[8,60],[13,60],[20,60],[20,70],[16,70],[11,70],[8,70],[5,70]])\n",
    "y = np.array([[10,13],[10,8], [10,4],[10,7],[12,7],[12,10],[13,13],[13,13],[13,10],[13,4],[13,6],[13,6],[13,9],[13,12],[13,12],[13,12],[13,9],[13,6],[13,4]])\n",
    "w = y.T[0]\n",
    "h = y.T[1]\n",
    "\n",
    "X = np.insert(X,2,5, axis=1)\n",
    "#X = np.insert(X,2,5, axis=1)\n",
    "X[:,2] = np.log(X[:,1])\n",
    "#X[:,3] = np.log(X[:,0])"
   ]
  },
  {
   "cell_type": "raw",
   "metadata": {},
   "source": [
    "lr_h = LinearRegression().fit(X[:,:2], h)\n",
    "lr_w = LinearRegression().fit(X, w)\n",
    "\n",
    "print('w = {:.5f}*n_a + {:.5g}*n_b + {:.5g}*np.log(n_a) + {:.5f}'.format(lr_w.coef_[0],lr_w.coef_[1],lr_w.coef_[2], lr_w.intercept_))\n",
    "print('h = {:.5f}*n_a + {:.5f}*n_b + {:.5g}*np.log(n_a) + {:.5f}'.format(lr_h.coef_[0],lr_h.coef_[1], lr_h.intercept_))"
   ]
  },
  {
   "cell_type": "raw",
   "metadata": {},
   "source": [
    "ax1 = plt.subplot(221)\n",
    "ax1.scatter(X.T[0], w, alpha=0.5, color='r')\n",
    "ax1.set_title('x1 v. w')\n",
    "ax2 = plt.subplot(222)\n",
    "ax2.scatter(X.T[0], h, alpha=0.5,color='g')\n",
    "ax2.set_title('x1 v. h')\n",
    "ax3 = plt.subplot(223)\n",
    "ax3.scatter(X.T[1], w, alpha=0.5,color='b')\n",
    "ax3.set_title('x2 v. w')\n",
    "ax4 = plt.subplot(224)\n",
    "ax4.scatter(X.T[1], h, alpha=0.5,color='black')\n",
    "ax4.set_title('x2 v. h')\n",
    "plt.tight_layout()"
   ]
  },
  {
   "cell_type": "code",
   "execution_count": null,
   "metadata": {},
   "outputs": [],
   "source": [
    "from pyadlml.dataset.devices import device_rep1_2_rep2\n",
    "rep2_nodrop, syn_acts = device_rep1_2_rep2(data.df_devices, drop=False)\n",
    "rep2_drop = device_rep1_2_rep2(data.df_devices, drop=True)\n",
    "print(data.df_devices)"
   ]
  },
  {
   "cell_type": "markdown",
   "metadata": {},
   "source": [
    "# Activites ~ Devices\n",
    "\n",
    "\n",
    "### Triggers\n",
    "Lets look at the connection between the activities and the device activations."
   ]
  },
  {
   "cell_type": "code",
   "execution_count": null,
   "metadata": {},
   "outputs": [],
   "source": [
    "import sys\n",
    "sys.path.append(\"../\")\n",
    "import pandas as pd\n",
    "import matplotlib.pyplot as plt\n",
    "import plotly\n",
    "plotly.offline.init_notebook_mode(connected=True)\n",
    "import pyadlml\n",
    "import numpy as np\n",
    "from pyadlml.dataset import set_data_home, fetch_mitlab\n",
    "\n",
    "set_data_home('/home/chris/code/adlml/data_home')\n",
    "data = fetch_mitlab(keep_original=True, cache=True, subject='subject1')"
   ]
  },
  {
   "cell_type": "code",
   "execution_count": null,
   "metadata": {},
   "outputs": [],
   "source": [
    "from pyadlml.dataset.stats import contingency_table_triggers, contingency_intervals, contingency_table_triggers_01\n",
    "#con_trigg = contingency_table_triggers(data.df_devices, data.df_activities)\n",
    "con_trigg_01 = contingency_table_triggers_01(data.df_devices, data.df_activities)\n",
    "#con_int = contingency_intervals(data.df_devices, data.df_activities)"
   ]
  },
  {
   "cell_type": "code",
   "execution_count": null,
   "metadata": {},
   "outputs": [],
   "source": [
    "from pyadlml.dataset.plot import heatmap_contingency_triggers_01\n",
    "\n",
    "idle = True\n",
    "z_scale = 'log'\n",
    "numbers = False\n",
    "heatmap_contingency_triggers_01(con_tab_01=con_trigg_01, z_scale=z_scale, idle=idle, numbers=numbers, figsize=(20,10));"
   ]
  },
  {
   "cell_type": "code",
   "execution_count": null,
   "metadata": {},
   "outputs": [],
   "source": [
    "from pyadlml.dataset.plot import heatmap_contingency_overlaps\n",
    "\n",
    "z_scale='log'\n",
    "idle=True\n",
    "numbers=False\n",
    "heatmap_contingency_overlaps(con_tab=con_int, z_scale=z_scale, idle=idle, figsize=(17,13), numbers=numbers)"
   ]
  },
  {
   "cell_type": "raw",
   "metadata": {},
   "source": [
    "from pyadlml.dataset.plot import heatmap_contingency_triggers\n",
    "\n",
    "idle = True\n",
    "z_scale = None#'log'\n",
    "heatmap_contingency_triggers(data.df_devices, data.df_activities, idle=idle, z_scale=z_scale)"
   ]
  },
  {
   "cell_type": "markdown",
   "metadata": {},
   "source": [
    "We can see that there are sensors that heavily trigger for certain activities e.g hall-bathroom door and use toilet"
   ]
  },
  {
   "cell_type": "raw",
   "metadata": {},
   "source": [
    "from pyadlml.dataset.plot import heatmap_contingency_triggers_01\n",
    "\n",
    "idle = True\n",
    "z_scale = None#'log'\n",
    "heatmap_contingency_triggers_01(data.df_devices, data.df_activities, idle=idle, z_scale=z_scale);"
   ]
  },
  {
   "cell_type": "markdown",
   "metadata": {},
   "source": [
    "Sadly the different states of a device don't convey much information. It would have been nice if an activity is only involved with a single device transition."
   ]
  },
  {
   "cell_type": "markdown",
   "metadata": {},
   "source": [
    "## Duration\n",
    "\n",
    "the overlap of the intervals is also interesting."
   ]
  },
  {
   "cell_type": "raw",
   "metadata": {},
   "source": [
    "from pyadlml.dataset.plot import heatmap_contingency_overlaps\n",
    "\n",
    "z_scale='log'\n",
    "idle=True\n",
    "\n",
    "heatmap_contingency_overlaps(data.df_devices, data.df_activities, z_scale=z_scale, idle=idle)"
   ]
  },
  {
   "cell_type": "markdown",
   "metadata": {},
   "source": [
    "# Representations\n",
    "\n",
    "There are different ways to represent our data. One way is to discretize the data into intervals."
   ]
  },
  {
   "cell_type": "markdown",
   "metadata": {},
   "source": [
    "- RAW representation _____|^^^^^^|______  \n",
    "    is 1 whenever the sensor is 'on' and 0 otherwise \n",
    "\n",
    "- Changepoint representation ______|________|______  \n",
    "    sensor gives a 1 to timeslices where the sensor reading changes\n",
    "\n",
    "- LastFired representation ______|^^^^^^^^^  \n",
    "    last sensor that changed state gives cont. 1\n",
    "\n",
    "- Lagged representation\n",
    "    the "
   ]
  },
  {
   "cell_type": "markdown",
   "metadata": {},
   "source": [
    "## RAW - representation"
   ]
  },
  {
   "cell_type": "code",
   "execution_count": 2,
   "metadata": {},
   "outputs": [
    {
     "data": {
      "text/html": [
       "        <script type=\"text/javascript\">\n",
       "        window.PlotlyConfig = {MathJaxConfig: 'local'};\n",
       "        if (window.MathJax) {MathJax.Hub.Config({SVG: {font: \"STIX-Web\"}});}\n",
       "        if (typeof require !== 'undefined') {\n",
       "        require.undef(\"plotly\");\n",
       "        requirejs.config({\n",
       "            paths: {\n",
       "                'plotly': ['https://cdn.plot.ly/plotly-latest.min']\n",
       "            }\n",
       "        });\n",
       "        require(['plotly'], function(Plotly) {\n",
       "            window._Plotly = Plotly;\n",
       "        });\n",
       "        }\n",
       "        </script>\n",
       "        "
      ]
     },
     "metadata": {},
     "output_type": "display_data"
    }
   ],
   "source": [
    "import sys\n",
    "sys.path.append(\"../\")\n",
    "import pandas as pd\n",
    "import matplotlib.pyplot as plt\n",
    "import plotly\n",
    "plotly.offline.init_notebook_mode(connected=True)\n",
    "import pyadlml\n",
    "import numpy as np\n",
    "from pyadlml.dataset import set_data_home, fetch_mitlab\n",
    "\n",
    "set_data_home('/home/chris/code/adlml/data_home')\n",
    "data = fetch_mitlab(keep_original=True, cache=True, subject='subject1')"
   ]
  },
  {
   "cell_type": "code",
   "execution_count": 3,
   "metadata": {},
   "outputs": [],
   "source": [
    "from pyadlml.preprocessing import DiscreteEncoder\n",
    "\n",
    "enc_raw = DiscreteEncoder(rep='raw')\n",
    "raw = enc_raw.fit_transform(data.df_devices)"
   ]
  },
  {
   "cell_type": "code",
   "execution_count": 4,
   "metadata": {},
   "outputs": [],
   "source": [
    "from pyadlml.preprocessing import LabelEncoder\n",
    "\n",
    "enc_lbl = LabelEncoder(raw)\n",
    "lbls = enc_lbl.fit_transform(data.df_activities)"
   ]
  },
  {
   "cell_type": "raw",
   "metadata": {},
   "source": [
    "lbls"
   ]
  },
  {
   "cell_type": "raw",
   "metadata": {},
   "source": [
    "raw"
   ]
  },
  {
   "cell_type": "raw",
   "metadata": {},
   "source": [
    "t_res = '60s'\n",
    "idle = True\n",
    "st='int_coverage'\n",
    "\n",
    "enc_raw = RawEncoder(t_res=t_res, sample_strat=st)\n",
    "raw = enc_raw.fit_transform(data.df_devices)\n",
    "\n",
    "enc_lbl = LabelEncoder(raw, idle=idle)\n",
    "lbls = enc_lbl.fit_transform(data.df_activities)"
   ]
  },
  {
   "cell_type": "code",
   "execution_count": 6,
   "metadata": {
    "tags": []
   },
   "outputs": [
    {
     "name": "stderr",
     "output_type": "stream",
     "text": [
      "/home/chris/Desktop/code/adlml/pyadlml/venv_pyadlml/lib/python3.9/site-packages/sklearn/utils/validation.py:72: DataConversionWarning:\n",
      "\n",
      "A column-vector y was passed when a 1d array was expected. Please change the shape of y to (n_samples, ), for example using ravel().\n",
      "\n"
     ]
    },
    {
     "data": {
      "image/png": "[encoded data removed]",
      "text/plain": [
       "<Figure size 720x576 with 1 Axes>"
      ]
     },
     "metadata": {
      "needs_background": "light"
     },
     "output_type": "display_data"
    }
   ],
   "source": [
    "from pyadlml.dataset.plot.discrete import hist_activities\n",
    "\n",
    "hist_activities(enc_lbl.inverse_transform(lbls), scale='log', figsize=(10,8))"
   ]
  },
  {
   "cell_type": "code",
   "execution_count": 8,
   "metadata": {},
   "outputs": [
    {
     "ename": "ValueError",
     "evalue": "Length mismatch: Expected axis has 0 elements, new values have 2 elements",
     "output_type": "error",
     "traceback": [
      "\u001b[0;31m---------------------------------------------------------------------------\u001b[0m",
      "\u001b[0;31mValueError\u001b[0m                                Traceback (most recent call last)",
      "\u001b[0;32m<ipython-input-8-9b6242a1571d>\u001b[0m in \u001b[0;36m<module>\u001b[0;34m\u001b[0m\n\u001b[1;32m      4\u001b[0m \u001b[0mrep\u001b[0m \u001b[0;34m=\u001b[0m \u001b[0;34m'raw'\u001b[0m\u001b[0;34m\u001b[0m\u001b[0;34m\u001b[0m\u001b[0m\n\u001b[1;32m      5\u001b[0m \u001b[0;34m\u001b[0m\u001b[0m\n\u001b[0;32m----> 6\u001b[0;31m heatmap_contingency(raw, enc_lbl.inverse_transform(lbls), \n\u001b[0m\u001b[1;32m      7\u001b[0m                        rep=rep, z_scale=z_scale);\n",
      "\u001b[0;32m~/Desktop/code/adlml/pyadlml/pyadlml/dataset/plot/discrete.py\u001b[0m in \u001b[0;36mheatmap_contingency\u001b[0;34m(X, y, rep, z_scale, figsize)\u001b[0m\n\u001b[1;32m     21\u001b[0m     \u001b[0mcbarlabel\u001b[0m \u001b[0;34m=\u001b[0m \u001b[0;34m'counts'\u001b[0m\u001b[0;34m\u001b[0m\u001b[0;34m\u001b[0m\u001b[0m\n\u001b[1;32m     22\u001b[0m \u001b[0;34m\u001b[0m\u001b[0m\n\u001b[0;32m---> 23\u001b[0;31m     \u001b[0mdf_con\u001b[0m \u001b[0;34m=\u001b[0m \u001b[0mcontingency_table_01\u001b[0m\u001b[0;34m(\u001b[0m\u001b[0mX\u001b[0m\u001b[0;34m,\u001b[0m \u001b[0my\u001b[0m\u001b[0;34m)\u001b[0m\u001b[0;34m\u001b[0m\u001b[0;34m\u001b[0m\u001b[0m\n\u001b[0m\u001b[1;32m     24\u001b[0m     \u001b[0mvals\u001b[0m \u001b[0;34m=\u001b[0m \u001b[0mdf_con\u001b[0m\u001b[0;34m.\u001b[0m\u001b[0mvalues\u001b[0m\u001b[0;34m.\u001b[0m\u001b[0mT\u001b[0m\u001b[0;34m\u001b[0m\u001b[0;34m\u001b[0m\u001b[0m\n\u001b[1;32m     25\u001b[0m     \u001b[0macts\u001b[0m \u001b[0;34m=\u001b[0m \u001b[0mdf_con\u001b[0m\u001b[0;34m.\u001b[0m\u001b[0mcolumns\u001b[0m\u001b[0;34m.\u001b[0m\u001b[0mvalues\u001b[0m\u001b[0;34m\u001b[0m\u001b[0;34m\u001b[0m\u001b[0m\n",
      "\u001b[0;32m~/Desktop/code/adlml/pyadlml/pyadlml/dataset/stats/discrete.py\u001b[0m in \u001b[0;36mcontingency_table_01\u001b[0;34m(X, y)\u001b[0m\n\u001b[1;32m     19\u001b[0m         \u001b[0my\u001b[0m \u001b[0;34m=\u001b[0m \u001b[0my\u001b[0m\u001b[0;34m[\u001b[0m\u001b[0;34m'activity'\u001b[0m\u001b[0;34m]\u001b[0m\u001b[0;34m\u001b[0m\u001b[0;34m\u001b[0m\u001b[0m\n\u001b[1;32m     20\u001b[0m     \u001b[0mres\u001b[0m \u001b[0;34m=\u001b[0m \u001b[0mpd\u001b[0m\u001b[0;34m.\u001b[0m\u001b[0mcrosstab\u001b[0m\u001b[0;34m(\u001b[0m\u001b[0mindex\u001b[0m\u001b[0;34m=\u001b[0m\u001b[0mX\u001b[0m\u001b[0;34m[\u001b[0m\u001b[0mX\u001b[0m\u001b[0;34m.\u001b[0m\u001b[0mcolumns\u001b[0m\u001b[0;34m[\u001b[0m\u001b[0;36m0\u001b[0m\u001b[0;34m]\u001b[0m\u001b[0;34m]\u001b[0m\u001b[0;34m,\u001b[0m \u001b[0mcolumns\u001b[0m\u001b[0;34m=\u001b[0m\u001b[0my\u001b[0m\u001b[0;34m)\u001b[0m\u001b[0;34m\u001b[0m\u001b[0;34m\u001b[0m\u001b[0m\n\u001b[0;32m---> 21\u001b[0;31m     \u001b[0mres\u001b[0m\u001b[0;34m.\u001b[0m\u001b[0mindex\u001b[0m \u001b[0;34m=\u001b[0m \u001b[0;34m[\u001b[0m\u001b[0mX\u001b[0m\u001b[0;34m.\u001b[0m\u001b[0mcolumns\u001b[0m\u001b[0;34m[\u001b[0m\u001b[0;36m0\u001b[0m\u001b[0;34m]\u001b[0m \u001b[0;34m+\u001b[0m \u001b[0;34m' Off'\u001b[0m\u001b[0;34m,\u001b[0m \u001b[0mX\u001b[0m\u001b[0;34m.\u001b[0m\u001b[0mcolumns\u001b[0m\u001b[0;34m[\u001b[0m\u001b[0;36m0\u001b[0m\u001b[0;34m]\u001b[0m \u001b[0;34m+\u001b[0m \u001b[0;34m' On'\u001b[0m\u001b[0;34m]\u001b[0m\u001b[0;34m\u001b[0m\u001b[0;34m\u001b[0m\u001b[0m\n\u001b[0m\u001b[1;32m     22\u001b[0m \u001b[0;34m\u001b[0m\u001b[0m\n\u001b[1;32m     23\u001b[0m     \u001b[0;32mfor\u001b[0m \u001b[0mdev_name\u001b[0m \u001b[0;32min\u001b[0m \u001b[0mX\u001b[0m\u001b[0;34m.\u001b[0m\u001b[0mcolumns\u001b[0m\u001b[0;34m[\u001b[0m\u001b[0;36m1\u001b[0m\u001b[0;34m:\u001b[0m\u001b[0;34m]\u001b[0m\u001b[0;34m:\u001b[0m\u001b[0;34m\u001b[0m\u001b[0;34m\u001b[0m\u001b[0m\n",
      "\u001b[0;32m~/Desktop/code/adlml/pyadlml/venv_pyadlml/lib/python3.9/site-packages/pandas/core/generic.py\u001b[0m in \u001b[0;36m__setattr__\u001b[0;34m(self, name, value)\u001b[0m\n\u001b[1;32m   5152\u001b[0m         \u001b[0;32mtry\u001b[0m\u001b[0;34m:\u001b[0m\u001b[0;34m\u001b[0m\u001b[0;34m\u001b[0m\u001b[0m\n\u001b[1;32m   5153\u001b[0m             \u001b[0mobject\u001b[0m\u001b[0;34m.\u001b[0m\u001b[0m__getattribute__\u001b[0m\u001b[0;34m(\u001b[0m\u001b[0mself\u001b[0m\u001b[0;34m,\u001b[0m \u001b[0mname\u001b[0m\u001b[0;34m)\u001b[0m\u001b[0;34m\u001b[0m\u001b[0;34m\u001b[0m\u001b[0m\n\u001b[0;32m-> 5154\u001b[0;31m             \u001b[0;32mreturn\u001b[0m \u001b[0mobject\u001b[0m\u001b[0;34m.\u001b[0m\u001b[0m__setattr__\u001b[0m\u001b[0;34m(\u001b[0m\u001b[0mself\u001b[0m\u001b[0;34m,\u001b[0m \u001b[0mname\u001b[0m\u001b[0;34m,\u001b[0m \u001b[0mvalue\u001b[0m\u001b[0;34m)\u001b[0m\u001b[0;34m\u001b[0m\u001b[0;34m\u001b[0m\u001b[0m\n\u001b[0m\u001b[1;32m   5155\u001b[0m         \u001b[0;32mexcept\u001b[0m \u001b[0mAttributeError\u001b[0m\u001b[0;34m:\u001b[0m\u001b[0;34m\u001b[0m\u001b[0;34m\u001b[0m\u001b[0m\n\u001b[1;32m   5156\u001b[0m             \u001b[0;32mpass\u001b[0m\u001b[0;34m\u001b[0m\u001b[0;34m\u001b[0m\u001b[0m\n",
      "\u001b[0;32mpandas/_libs/properties.pyx\u001b[0m in \u001b[0;36mpandas._libs.properties.AxisProperty.__set__\u001b[0;34m()\u001b[0m\n",
      "\u001b[0;32m~/Desktop/code/adlml/pyadlml/venv_pyadlml/lib/python3.9/site-packages/pandas/core/generic.py\u001b[0m in \u001b[0;36m_set_axis\u001b[0;34m(self, axis, labels)\u001b[0m\n\u001b[1;32m    562\u001b[0m     \u001b[0;32mdef\u001b[0m \u001b[0m_set_axis\u001b[0m\u001b[0;34m(\u001b[0m\u001b[0mself\u001b[0m\u001b[0;34m,\u001b[0m \u001b[0maxis\u001b[0m\u001b[0;34m:\u001b[0m \u001b[0mint\u001b[0m\u001b[0;34m,\u001b[0m \u001b[0mlabels\u001b[0m\u001b[0;34m:\u001b[0m \u001b[0mIndex\u001b[0m\u001b[0;34m)\u001b[0m \u001b[0;34m->\u001b[0m \u001b[0;32mNone\u001b[0m\u001b[0;34m:\u001b[0m\u001b[0;34m\u001b[0m\u001b[0;34m\u001b[0m\u001b[0m\n\u001b[1;32m    563\u001b[0m         \u001b[0mlabels\u001b[0m \u001b[0;34m=\u001b[0m \u001b[0mensure_index\u001b[0m\u001b[0;34m(\u001b[0m\u001b[0mlabels\u001b[0m\u001b[0;34m)\u001b[0m\u001b[0;34m\u001b[0m\u001b[0;34m\u001b[0m\u001b[0m\n\u001b[0;32m--> 564\u001b[0;31m         \u001b[0mself\u001b[0m\u001b[0;34m.\u001b[0m\u001b[0m_mgr\u001b[0m\u001b[0;34m.\u001b[0m\u001b[0mset_axis\u001b[0m\u001b[0;34m(\u001b[0m\u001b[0maxis\u001b[0m\u001b[0;34m,\u001b[0m \u001b[0mlabels\u001b[0m\u001b[0;34m)\u001b[0m\u001b[0;34m\u001b[0m\u001b[0;34m\u001b[0m\u001b[0m\n\u001b[0m\u001b[1;32m    565\u001b[0m         \u001b[0mself\u001b[0m\u001b[0;34m.\u001b[0m\u001b[0m_clear_item_cache\u001b[0m\u001b[0;34m(\u001b[0m\u001b[0;34m)\u001b[0m\u001b[0;34m\u001b[0m\u001b[0;34m\u001b[0m\u001b[0m\n\u001b[1;32m    566\u001b[0m \u001b[0;34m\u001b[0m\u001b[0m\n",
      "\u001b[0;32m~/Desktop/code/adlml/pyadlml/venv_pyadlml/lib/python3.9/site-packages/pandas/core/internals/managers.py\u001b[0m in \u001b[0;36mset_axis\u001b[0;34m(self, axis, new_labels)\u001b[0m\n\u001b[1;32m    224\u001b[0m \u001b[0;34m\u001b[0m\u001b[0m\n\u001b[1;32m    225\u001b[0m         \u001b[0;32mif\u001b[0m \u001b[0mnew_len\u001b[0m \u001b[0;34m!=\u001b[0m \u001b[0mold_len\u001b[0m\u001b[0;34m:\u001b[0m\u001b[0;34m\u001b[0m\u001b[0;34m\u001b[0m\u001b[0m\n\u001b[0;32m--> 226\u001b[0;31m             raise ValueError(\n\u001b[0m\u001b[1;32m    227\u001b[0m                 \u001b[0;34mf\"Length mismatch: Expected axis has {old_len} elements, new \"\u001b[0m\u001b[0;34m\u001b[0m\u001b[0;34m\u001b[0m\u001b[0m\n\u001b[1;32m    228\u001b[0m                 \u001b[0;34mf\"values have {new_len} elements\"\u001b[0m\u001b[0;34m\u001b[0m\u001b[0;34m\u001b[0m\u001b[0m\n",
      "\u001b[0;31mValueError\u001b[0m: Length mismatch: Expected axis has 0 elements, new values have 2 elements"
     ]
    }
   ],
   "source": [
    "from pyadlml.dataset.plot.discrete import heatmap_contingency\n",
    "\n",
    "z_scale = 'log'\n",
    "rep = 'raw'\n",
    "\n",
    "heatmap_contingency(raw, enc_lbl.inverse_transform(lbls), \n",
    "                       rep=rep, z_scale=z_scale);"
   ]
  },
  {
   "cell_type": "code",
   "execution_count": null,
   "metadata": {
    "scrolled": false
   },
   "outputs": [],
   "source": [
    "from pyadlml.dataset.plot.raw import heatmap_cross_correlation\n",
    "\n",
    "heatmap_cross_correlation(raw);"
   ]
  },
  {
   "cell_type": "markdown",
   "metadata": {},
   "source": [
    "## Changepoint - representation\n",
    "Raw: _____|^^^^^^|______  \n",
    "\n",
    "CP :  ______|________|______  \n",
    "\n",
    "sensor gives a 1 to timeslices where the sensor reading changes"
   ]
  },
  {
   "cell_type": "code",
   "execution_count": null,
   "metadata": {},
   "outputs": [],
   "source": [
    "from pyadlml.preprocessing import ChangepointEncoder\n",
    "\n",
    "idle = True\n",
    "t_res = '60s'\n",
    "\n",
    "cp_enc = ChangepointEncoder(t_res=t_res)\n",
    "cp = cp_enc.fit_transform(data.df_devices)"
   ]
  },
  {
   "cell_type": "code",
   "execution_count": null,
   "metadata": {},
   "outputs": [],
   "source": [
    "from pyadlml.preprocessing import LabelEncoder\n",
    "\n",
    "enc_lbl = LabelEncoder(cp, idle=idle)\n",
    "lbls = enc_lbl.fit_transform(data.df_activities)"
   ]
  },
  {
   "cell_type": "code",
   "execution_count": null,
   "metadata": {},
   "outputs": [],
   "source": [
    "def check_changepoint(cp):\n",
    "    # should not contain any  nan values\n",
    "    assert not cp.isnull().values.any()\n",
    "\n",
    "check_changepoint(cp)"
   ]
  },
  {
   "cell_type": "code",
   "execution_count": null,
   "metadata": {},
   "outputs": [],
   "source": [
    "from pyadlml.dataset.plot.raw import heatmap_contingency_01\n",
    "\n",
    "z_scale = 'log'\n",
    "rep = 'Changepoint'\n",
    "\n",
    "heatmap_contingency_01(cp, enc_lbl.inverse_transform(lbls), rep=rep, z_scale=z_scale);"
   ]
  },
  {
   "cell_type": "code",
   "execution_count": null,
   "metadata": {
    "scrolled": false
   },
   "outputs": [],
   "source": [
    "from pyadlml.dataset.plot.raw import heatmap_cross_correlation\n",
    "\n",
    "heatmap_cross_correlation(cp);"
   ]
  },
  {
   "cell_type": "raw",
   "metadata": {},
   "source": [
    "from pyadlml.dataset.plot.raw import corr_devices_01\n",
    "corr_devices_01(cp)"
   ]
  },
  {
   "cell_type": "markdown",
   "metadata": {},
   "source": [
    "## LastFired - representation\n",
    "______|^^^^^^^^^  \n",
    "\n",
    "last sensor that changed state gives cont. 1"
   ]
  },
  {
   "cell_type": "code",
   "execution_count": null,
   "metadata": {},
   "outputs": [],
   "source": [
    "from pyadlml.preprocessing import LastFiredEncoder\n",
    "\n",
    "t_res = '60s'\n",
    "idle=True\n",
    "\n",
    "lf_enc = LastFiredEncoder(t_res=t_res)\n",
    "lf = lf_enc.fit_transform(data.df_devices)"
   ]
  },
  {
   "cell_type": "code",
   "execution_count": null,
   "metadata": {},
   "outputs": [],
   "source": [
    "from pyadlml.preprocessing import LabelEncoder\n",
    "\n",
    "enc_lbl = LabelEncoder(lf, idle=idle)\n",
    "lbls = enc_lbl.fit_transform(data.df_activities)"
   ]
  },
  {
   "cell_type": "code",
   "execution_count": null,
   "metadata": {},
   "outputs": [],
   "source": [
    "def check_lastfired(lf):\n",
    "    # should not contain any  nan values\n",
    "    assert not lf.isnull().values.any()\n",
    "    \n",
    "    # each row has to have exactly one device being on\n",
    "    for row in lf.iterrows():\n",
    "        assert 1 == row[1].values.sum()\n",
    "\n",
    "check_lastfired(lf)"
   ]
  },
  {
   "cell_type": "code",
   "execution_count": null,
   "metadata": {},
   "outputs": [],
   "source": [
    "from pyadlml.dataset.plot.raw import heatmap_contingency_01\n",
    "\n",
    "z_scale = 'log'\n",
    "rep = 'LastFired'\n",
    "\n",
    "heatmap_contingency_01(lf, enc_lbl.inverse_transform(lbls), rep=rep, z_scale=z_scale);"
   ]
  },
  {
   "cell_type": "code",
   "execution_count": null,
   "metadata": {},
   "outputs": [],
   "source": [
    "from pyadlml.dataset.plot.raw import heatmap_cross_correlation\n",
    "\n",
    "heatmap_cross_correlation(lf);"
   ]
  },
  {
   "cell_type": "raw",
   "metadata": {},
   "source": [
    "from pyadlml.dataset.plot.raw import corr_devices_01\n",
    "corr_devices_01(lf)"
   ]
  },
  {
   "cell_type": "markdown",
   "metadata": {},
   "source": [
    "## Image - representation\n",
    "\n",
    "a lot of timeseries can be represented as images. There are good algorithms for images available. There are Recurrence Plots (RP), Gramian Angular Field (GAF) (bad for binary data), Markov Transition Field (MTF): https://doi.org/10.3390/electronics9010068.\n",
    "\n",
    "\n",
    "Gramian Angular field: \n",
    "    https://medium.com/analytics-vidhya/encoding-time-series-as-images-b043becbdbf3\n",
    "    \n",
    "    https://pyts.readthedocs.io/en/stable/auto_examples/image/plot_mtf.html#sphx-glr-auto-examples-image-plot-mtf-py"
   ]
  },
  {
   "cell_type": "markdown",
   "metadata": {},
   "source": [
    "### Lagged RAW\n",
    "\n",
    "The lagged raw representation generates a 3D tensor from the raw input. A state at time $t$ is $1D$ vector. The window size determines how big the $2D$ picture is. Stack the windows in the third dimension.\n",
    "\n",
    "Also see last part of\n",
    "https://towardsdatascience.com/ml-approaches-for-time-series-4d44722e48fe"
   ]
  },
  {
   "cell_type": "code",
   "execution_count": null,
   "metadata": {},
   "outputs": [],
   "source": [
    "from pyadlml.preprocessing import LaggedRawEncoder, LaggedLabelEncoder\n",
    "\n",
    "window_size = 20\n",
    "t_res = '2min'\n",
    "sample_strat = 'int_coverage'\n",
    "idle = True\n",
    "\n",
    "enc_lgd_raw = LaggedRawEncoder(window_size, \n",
    "                               t_res=t_res, \n",
    "                               sample_strat=sample_strat)\n",
    "\n",
    "images = enc_lgd_raw.fit_transform(data.df_devices)"
   ]
  },
  {
   "cell_type": "code",
   "execution_count": null,
   "metadata": {},
   "outputs": [],
   "source": [
    "images.shape"
   ]
  },
  {
   "cell_type": "code",
   "execution_count": null,
   "metadata": {},
   "outputs": [],
   "source": [
    "enc_lgd_lbl = LaggedLabelEncoder(data.df_devices,\n",
    "                                        window_size, \n",
    "                                        t_res=t_res,\n",
    "                                        idle=idle)\n",
    "\n",
    "labels = enc_lgd_lbl.fit_transform(data.df_activities)\n",
    "labels.shape"
   ]
  },
  {
   "cell_type": "code",
   "execution_count": null,
   "metadata": {},
   "outputs": [],
   "source": [
    "from pyadlml.dataset.plot.image import mean_image\n",
    "\n",
    "mean_image(images, data.devices)"
   ]
  },
  {
   "cell_type": "code",
   "execution_count": null,
   "metadata": {},
   "outputs": [],
   "source": [
    "from pyadlml.dataset.plot.image import mean_image_per_activity\n",
    "\n",
    "X = images\n",
    "y = enc_lgd_lbl.inverse_transform(labels)\n",
    "\n",
    "mean_image_per_activity(X, y, data.devices)"
   ]
  },
  {
   "cell_type": "markdown",
   "metadata": {},
   "source": [
    "# Lagged Changepoint representation"
   ]
  },
  {
   "cell_type": "code",
   "execution_count": null,
   "metadata": {},
   "outputs": [],
   "source": [
    "from pyadlml.preprocessing import LaggedChangepointEncoder\n",
    "window_size = 20\n",
    "t_res = '2min'\n",
    "sample_strat = 'int_coverage'\n",
    "idle = True\n",
    "\n",
    "\n",
    "enc_lgd_cp = LaggedChangepointEncoder(window_size, t_res=t_res)\n",
    "images = enc_lgd_cp.fit_transform(data.df_devices)\n",
    "images.shape"
   ]
  },
  {
   "cell_type": "code",
   "execution_count": null,
   "metadata": {},
   "outputs": [],
   "source": [
    "from pyadlml.dataset.plot.image import mean_image\n",
    "\n",
    "mean_image(images, data.devices)"
   ]
  },
  {
   "cell_type": "code",
   "execution_count": null,
   "metadata": {},
   "outputs": [],
   "source": [
    "enc_lgd_lbl = LaggedLabelEncoder(data.df_devices,\n",
    "                                        window_size, \n",
    "                                        t_res=t_res,\n",
    "                                        idle=idle)\n",
    "\n",
    "labels = enc_lgd_lbl.fit_transform(data.df_activities)\n",
    "labels.shape"
   ]
  },
  {
   "cell_type": "code",
   "execution_count": null,
   "metadata": {},
   "outputs": [],
   "source": [
    "from pyadlml.dataset.plot.image import mean_image_per_activity\n",
    "\n",
    "X = images\n",
    "y = enc_lgd_lbl.inverse_transform(labels)\n",
    "\n",
    "mean_image_per_activity(X, y, data.devices)"
   ]
  },
  {
   "cell_type": "markdown",
   "metadata": {},
   "source": [
    "## Lagged Last Fired Encoder"
   ]
  },
  {
   "cell_type": "code",
   "execution_count": null,
   "metadata": {},
   "outputs": [],
   "source": [
    "from pyadlml.preprocessing import LaggedLastFiredEncoder\n",
    "window_size = 20\n",
    "t_res = '2min'\n",
    "sample_strat = 'int_coverage'\n",
    "idle=True\n",
    "\n",
    "\n",
    "enc_lgd_lf = LaggedLastFiredEncoder(window_size, t_res=t_res)\n",
    "images = enc_lgd_lf.fit_transform(data.df_devices)\n",
    "images.shape"
   ]
  },
  {
   "cell_type": "code",
   "execution_count": null,
   "metadata": {},
   "outputs": [],
   "source": [
    "from pyadlml.dataset.plot.image import mean_image\n",
    "\n",
    "mean_image(images, data.devices)"
   ]
  },
  {
   "cell_type": "code",
   "execution_count": null,
   "metadata": {},
   "outputs": [],
   "source": [
    "enc_lgd_lbl = LaggedLabelEncoder(data.df_devices,\n",
    "                                        window_size, \n",
    "                                        t_res=t_res,\n",
    "                                        idle=idle)\n",
    "\n",
    "labels = enc_lgd_lbl.fit_transform(data.df_activities)\n",
    "labels.shape"
   ]
  },
  {
   "cell_type": "code",
   "execution_count": null,
   "metadata": {},
   "outputs": [],
   "source": [
    "from pyadlml.dataset.plot.image import mean_image_per_activity\n",
    "\n",
    "X = images\n",
    "y = enc_lgd_lbl.inverse_transform(labels)\n",
    "\n",
    "mean_image_per_activity(X, y, data.devices)"
   ]
  }
 ],
 "metadata": {
  "kernelspec": {
   "display_name": "PyCharm (pyadlml)",
   "language": "python",
   "name": "pycharm-92138902"
  },
  "language_info": {
   "codemirror_mode": {
    "name": "ipython",
    "version": 3
   },
   "file_extension": ".py",
   "mimetype": "text/x-python",
   "name": "python",
   "nbconvert_exporter": "python",
   "pygments_lexer": "ipython3",
   "version": "3.9.0"
  }
 },
 "nbformat": 4,
 "nbformat_minor": 2
}
