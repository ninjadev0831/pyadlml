{
 "cells": [
  {
   "cell_type": "markdown",
   "metadata": {},
   "source": [
    "# Decision trees\n",
    "\n",
    "### Procedure \n",
    "The documet is split in 4 sections:\n",
    "- data wrangling\n",
    "- model training\n",
    "- evaluation\n",
    "- result"
   ]
  },
  {
   "cell_type": "code",
   "execution_count": 24,
   "metadata": {},
   "outputs": [],
   "source": [
    "import sys\n",
    "sys.path.append(\"../../..\")\n",
    "\n",
    "import pandas as pd\n",
    "import numpy as np\n",
    "from sklearn.tree import DecisionTreeClassifier\n",
    "from sklearn.model_selection import RepeatedStratifiedKFold, GridSearchCV\n",
    "from imblearn.pipeline import Pipeline\n",
    "from sklearn.model_selection import cross_validate"
   ]
  },
  {
   "cell_type": "markdown",
   "metadata": {},
   "source": [
    "## Data Wrangling"
   ]
  },
  {
   "cell_type": "code",
   "execution_count": 25,
   "metadata": {},
   "outputs": [],
   "source": [
    "from pyadlml.datasets import set_data_home, fetch_amsterdam, fetch_aras, fetch_uci_adl_binary\n",
    "\n",
    "set_data_home('/home/chris/code/adlml/data_home')\n",
    "data = fetch_amsterdam(cache=True)"
   ]
  },
  {
   "cell_type": "code",
   "execution_count": 27,
   "metadata": {},
   "outputs": [],
   "source": [
    "from pyadlml.preprocessing import RawEncoder\n",
    "from pyadlml.preprocessing import LabelEncoder\n",
    "\n",
    "t_res = None\n",
    "idle = True\n",
    "st='int_coverage'\n",
    "\n",
    "enc_raw = RawEncoder(t_res=t_res, sample_strat=st)\n",
    "raw = enc_raw.fit_transform(data.df_devices)\n",
    "\n",
    "enc_lbl = LabelEncoder(raw, idle=idle)\n",
    "lbls = enc_lbl.fit_transform(data.df_activities)"
   ]
  },
  {
   "cell_type": "code",
   "execution_count": 29,
   "metadata": {
    "scrolled": false
   },
   "outputs": [],
   "source": [
    "# label the activities and drop the duplicates\n",
    "raw['activities'] = lbls\n",
    "raw = raw.reset_index(drop=True)\n",
    "raw = raw.drop_duplicates()\n",
    "raw = raw.reset_index(drop=True)"
   ]
  },
  {
   "cell_type": "code",
   "execution_count": 14,
   "metadata": {},
   "outputs": [],
   "source": [
    "lbls = raw['activities']"
   ]
  },
  {
   "cell_type": "code",
   "execution_count": 16,
   "metadata": {
    "tags": []
   },
   "outputs": [
    {
     "data": {
      "image/png": "[encoded data removed]",
      "text/plain": [
       "<Figure size 648x216 with 1 Axes>"
      ]
     },
     "metadata": {
      "needs_background": "light"
     },
     "output_type": "display_data"
    }
   ],
   "source": [
    "from pyadlml.dataset.plot.raw import hist_activities\n",
    "\n",
    "hist_activities(enc_lbl.inverse_transform(lbls), scale='log')"
   ]
  },
  {
   "cell_type": "markdown",
   "metadata": {},
   "source": [
    "The dataset is imbalanced as the labels aren't distributed equally between the classes. \n",
    "https://imbalanced-learn.readthedocs.io/en/stable/generated/imblearn.under_sampling.NearMiss.html#imblearn.under_sampling.NearMiss\n"
   ]
  },
  {
   "cell_type": "code",
   "execution_count": 17,
   "metadata": {},
   "outputs": [],
   "source": [
    "from imblearn.under_sampling import RandomUnderSampler\n",
    "\n",
    "st = 'not minority' # resample all but minority\n",
    "#st = 'not majority' # resample all but majority\n",
    "X = raw.iloc[:,:-1].astype(int).values\n",
    "y = lbls.values\n",
    "\n",
    "undersample = RandomUnderSampler(sampling_strategy=st)\n",
    "X_u, y_u = undersample.fit_resample(X,y)"
   ]
  },
  {
   "cell_type": "code",
   "execution_count": 18,
   "metadata": {},
   "outputs": [
    {
     "name": "stdout",
     "output_type": "stream",
     "text": [
      "(80, 14)\n"
     ]
    },
    {
     "data": {
      "image/png": "[encoded data removed]",
      "text/plain": [
       "<Figure size 648x216 with 1 Axes>"
      ]
     },
     "metadata": {
      "needs_background": "light"
     },
     "output_type": "display_data"
    }
   ],
   "source": [
    "print(X_u.shape)\n",
    "hist_activities(enc_lbl.inverse_transform(y_u), scale='log')"
   ]
  },
  {
   "cell_type": "raw",
   "metadata": {},
   "source": [
    "from pyadlml.dataset.plot.raw import heatmap_contingency_01\n",
    "\n",
    "z_scale = 'log'\n",
    "rep = 'raw'\n",
    "df = pd.DataFrame(data=X_u, columns=raw.columns[:-1])\n",
    "df.index = df.index.set_names('time')\n",
    "lbls = enc_lbl.inverse_transform(y_u)\n",
    "\n",
    "heatmap_contingency_01(df, lbls, rep=rep, z_scale=z_scale);"
   ]
  },
  {
   "cell_type": "raw",
   "metadata": {
    "scrolled": false
   },
   "source": [
    "from pyadlml.dataset.plot.raw import heatmap_cross_correlation\n",
    "\n",
    "heatmap_cross_correlation(df);"
   ]
  },
  {
   "cell_type": "code",
   "execution_count": 30,
   "metadata": {},
   "outputs": [],
   "source": [
    "from pyadlml.preprocessing import RawEncoder\n",
    "from pyadlml.preprocessing import LabelEncoder\n",
    "\n",
    "#t_res = '10s'\n",
    "t_res = None\n",
    "idle = True\n",
    "st='int_coverage'\n",
    "\n",
    "enc_raw = RawEncoder(t_res=t_res, sample_strat=st)\n",
    "raw = enc_raw.fit_transform(data.df_devices)\n",
    "\n",
    "enc_lbl = LabelEncoder(raw, idle=idle)\n",
    "lbls = enc_lbl.fit_transform(data.df_activities)"
   ]
  },
  {
   "cell_type": "code",
   "execution_count": 58,
   "metadata": {
    "scrolled": false
   },
   "outputs": [],
   "source": [
    "from pyadlml.model_selection import LeaveOneDayOut\n",
    "\n",
    "lodo = LeaveOneDayOut(num_days=1)\n",
    "ts = lodo.split(X=raw, y=lbls)\n",
    "\n",
    "X = raw\n",
    "y = lbls\n",
    "\n",
    "for train_index, test_index in ts:\n",
    "    X_train, X_test = X.iloc[train_index].values, X.iloc[test_index].values\n",
    "    y_train = y.iloc[train_index].values.ravel()\n",
    "    y_test = y.iloc[test_index].values.ravel()"
   ]
  },
  {
   "cell_type": "markdown",
   "metadata": {},
   "source": [
    "# Model: Decision Tree"
   ]
  },
  {
   "cell_type": "code",
   "execution_count": 59,
   "metadata": {},
   "outputs": [],
   "source": [
    "from sklearn.tree import DecisionTreeClassifier\n",
    "from sklearn.model_selection import RepeatedStratifiedKFold, GridSearchCV\n",
    "from imblearn.pipeline import Pipeline\n",
    "from sklearn.model_selection import cross_validate\n",
    "\n",
    "steps = []\n",
    "\n",
    "# 1. resample the data because of the labels\n",
    "undersample = RandomUnderSampler()\n",
    "steps.append(('under', undersample))\n",
    "\n",
    "# 2. Model: decision tree\n",
    "model = DecisionTreeClassifier()\n",
    "steps.append(('model', model))\n",
    "pipe = Pipeline(steps=steps)\n",
    "\n",
    "# evaluate pipeline\n",
    "n = 10\n",
    "scoring_fcts = ['f1_macro']#, 'accuracy', 'recall']\n",
    "param_grid = {\n",
    "    'under__sampling_strategy' : ['not majority'],\n",
    "    'model__max_depth' : [2,3,4],\n",
    "    'model__min_samples_leaf': [1,2,3]\n",
    "}\n",
    "\n",
    "scores = np.zeros(n, dtype=np.float32)\n",
    "best_param = (0.0, {})\n",
    "for i in range(n):\n",
    "    cv = RepeatedStratifiedKFold(n_splits=10, n_repeats=3)\n",
    "    gscv = GridSearchCV(pipe, param_grid, refit='f1_macro', \n",
    "                        scoring=scoring_fcts, cv=cv, n_jobs=-1)\n",
    "    gscv.fit(X_train, y_train)\n",
    "    scores[i] = gscv.best_score_\n",
    "    if scores[i] > best_param[0]:\n",
    "        best_param = ((scores[i], gscv.best_params_))"
   ]
  },
  {
   "cell_type": "code",
   "execution_count": 34,
   "metadata": {},
   "outputs": [
    {
     "name": "stdout",
     "output_type": "stream",
     "text": [
      "F1 mean Score: 0.1453, std: 0.0014\n",
      "F1 best Score: 0.1469\n"
     ]
    }
   ],
   "source": [
    "print('F1 mean Score: {:.4f}, std: {:.4f}'.format(scores.mean(), scores.std()))\n",
    "print('F1 best Score: {:.4f}'.format(best_param[0]))"
   ]
  },
  {
   "cell_type": "code",
   "execution_count": 35,
   "metadata": {},
   "outputs": [],
   "source": [
    "best_pipe = Pipeline(steps=steps)\n",
    "best_pipe = best_pipe.set_params(**best_param[1])\n",
    "best_pipe = best_pipe.fit(X_train, y_train)\n",
    "best_model = best_pipe.get_params()['model']"
   ]
  },
  {
   "cell_type": "code",
   "execution_count": 23,
   "metadata": {},
   "outputs": [
    {
     "ename": "NameError",
     "evalue": "name 'best_model' is not defined",
     "output_type": "error",
     "traceback": [
      "\u001b[0;31m---------------------------------------------------------------------------\u001b[0m",
      "\u001b[0;31mNameError\u001b[0m                                 Traceback (most recent call last)",
      "\u001b[0;32m<ipython-input-23-d1ee1c149596>\u001b[0m in \u001b[0;36m<module>\u001b[0;34m\u001b[0m\n\u001b[1;32m      3\u001b[0m \u001b[0;32mfrom\u001b[0m \u001b[0mIPython\u001b[0m\u001b[0;34m.\u001b[0m\u001b[0mdisplay\u001b[0m \u001b[0;32mimport\u001b[0m \u001b[0mdisplay\u001b[0m\u001b[0;34m\u001b[0m\u001b[0;34m\u001b[0m\u001b[0m\n\u001b[1;32m      4\u001b[0m \u001b[0;34m\u001b[0m\u001b[0m\n\u001b[0;32m----> 5\u001b[0;31m \u001b[0mdot_data\u001b[0m \u001b[0;34m=\u001b[0m \u001b[0mtree\u001b[0m\u001b[0;34m.\u001b[0m\u001b[0mexport_graphviz\u001b[0m\u001b[0;34m(\u001b[0m\u001b[0mbest_model\u001b[0m\u001b[0;34m,\u001b[0m \u001b[0mout_file\u001b[0m\u001b[0;34m=\u001b[0m\u001b[0;32mNone\u001b[0m\u001b[0;34m)\u001b[0m\u001b[0;34m\u001b[0m\u001b[0;34m\u001b[0m\u001b[0m\n\u001b[0m\u001b[1;32m      6\u001b[0m \u001b[0mgraph\u001b[0m \u001b[0;34m=\u001b[0m \u001b[0mgraphviz\u001b[0m\u001b[0;34m.\u001b[0m\u001b[0mSource\u001b[0m\u001b[0;34m(\u001b[0m\u001b[0mdot_data\u001b[0m\u001b[0;34m)\u001b[0m\u001b[0;34m\u001b[0m\u001b[0;34m\u001b[0m\u001b[0m\n\u001b[1;32m      7\u001b[0m \u001b[0mdisplay\u001b[0m\u001b[0;34m(\u001b[0m\u001b[0mgraph\u001b[0m\u001b[0;34m)\u001b[0m\u001b[0;31m#, width = 600, height = 300)\u001b[0m\u001b[0;34m\u001b[0m\u001b[0;34m\u001b[0m\u001b[0m\n",
      "\u001b[0;31mNameError\u001b[0m: name 'best_model' is not defined"
     ]
    }
   ],
   "source": [
    "from sklearn import tree\n",
    "import graphviz \n",
    "from IPython.display import display\n",
    "\n",
    "dot_data = tree.export_graphviz(best_model, out_file=None)\n",
    "graph = graphviz.Source(dot_data)\n",
    "display(graph)#, width = 600, height = 300)"
   ]
  },
  {
   "cell_type": "markdown",
   "metadata": {},
   "source": [
    "# Evaluation"
   ]
  },
  {
   "cell_type": "code",
   "execution_count": 51,
   "metadata": {
    "scrolled": true
   },
   "outputs": [
    {
     "data": {
      "text/plain": [
       "{'stratified': {'std': 0.037150667072824516, 'mean': 0.17054054054054057},\n",
       " 'most_frequent': {'std': 5.551115123125783e-17, 'mean': 0.3693693693693693},\n",
       " 'uniform': {'std': 0.03126775122808572, 'mean': 0.11522522522522523}}"
      ]
     },
     "execution_count": 51,
     "metadata": {},
     "output_type": "execute_result"
    }
   ],
   "source": [
    "from sklearn.dummy import DummyClassifier\n",
    "\n",
    "def score_dummies(X_train, y_train, X_test, y_test, n=100):\n",
    "    strats = ['stratified', 'most_frequent', 'uniform']\n",
    "    means = {strats[0] : np.zeros(n), strats[1] : np.zeros(n), strats[2] : np.zeros(n)}\n",
    "\n",
    "    for i in range(n):\n",
    "        for strat in strats:\n",
    "            dclf = DummyClassifier(strategy=strat).fit(X_train, y_train)\n",
    "            means[strat][i] = dclf.score(X_test, y_test)\n",
    "\n",
    "    for strat in strats:\n",
    "        std = means[strat].std()\n",
    "        mean = means[strat].mean()\n",
    "        means[strat] = {'std': std, 'mean':mean}\n",
    "    return means\n",
    "\n",
    "n = 100\n",
    "score_dummies(X_train, y_train, X_test, y_test, n)"
   ]
  },
  {
   "cell_type": "markdown",
   "metadata": {},
   "source": [
    "### confusion matrix"
   ]
  },
  {
   "cell_type": "code",
   "execution_count": 53,
   "metadata": {},
   "outputs": [
    {
     "data": {
      "text/plain": [
       "array([[ 0,  0,  0,  0,  0,  0,  0,  0],\n",
       "       [ 0,  0,  0,  0,  0,  0,  0, 13],\n",
       "       [ 0,  0,  0,  0,  0,  0,  0, 14],\n",
       "       [ 0,  0,  0,  2,  0,  0,  0,  3],\n",
       "       [ 3,  0,  0,  0,  0,  0,  0,  7],\n",
       "       [ 3,  0,  0,  0,  0,  0,  0, 17],\n",
       "       [ 0,  0,  0,  0,  0,  0,  0,  8],\n",
       "       [ 0,  0,  0,  0,  0,  0,  0, 41]])"
      ]
     },
     "execution_count": 53,
     "metadata": {},
     "output_type": "execute_result"
    }
   ],
   "source": [
    "from sklearn.metrics import confusion_matrix\n",
    "\n",
    "y_true = y_test\n",
    "y_pred = best_model.predict(X_test)\n",
    "confusion_matrix(y_true, y_pred)"
   ]
  },
  {
   "cell_type": "code",
   "execution_count": 56,
   "metadata": {},
   "outputs": [
    {
     "data": {
      "image/png": "[encoded data removed]",
      "text/plain": [
       "<Figure size 432x288 with 2 Axes>"
      ]
     },
     "metadata": {
      "needs_background": "light"
     },
     "output_type": "display_data"
    }
   ],
   "source": [
    "from sklearn.metrics import plot_confusion_matrix\n",
    "plot_confusion_matrix(best_model, X_test, y_test);"
   ]
  },
  {
   "cell_type": "code",
   "execution_count": 57,
   "metadata": {},
   "outputs": [
    {
     "data": {
      "text/plain": [
       "array([[ 0,  0,  0,  0,  0,  0,  0,  0],\n",
       "       [ 0,  0,  0,  0,  0,  0,  0, 13],\n",
       "       [ 0,  0,  0,  0,  0,  0,  0, 14],\n",
       "       [ 0,  0,  0,  2,  0,  0,  0,  3],\n",
       "       [ 3,  0,  0,  0,  0,  0,  0,  7],\n",
       "       [ 3,  0,  0,  0,  0,  0,  0, 17],\n",
       "       [ 0,  0,  0,  0,  0,  0,  0,  8],\n",
       "       [ 0,  0,  0,  0,  0,  0,  0, 41]])"
      ]
     },
     "execution_count": 57,
     "metadata": {},
     "output_type": "execute_result"
    }
   ],
   "source": [
    "from sklearn.metrics import classification_report\n",
    "\n",
    "y_true = y_test\n",
    "y_pred = best_model.predict(X_test)\n",
    "confusion_matrix(y_true, y_pred)"
   ]
  },
  {
   "cell_type": "code",
   "execution_count": 28,
   "metadata": {},
   "outputs": [],
   "source": [
    "from pyadlml.model_selection import LeaveOneDayOut\n",
    "\n",
    "lodo = LeaveOneDayOut(num_days=1)\n",
    "ts = lodo.split(X=raw, y=lbls)\n",
    "\n",
    "X = raw\n",
    "y = lbls\n",
    "\n",
    "for train_index, test_index in ts:\n",
    "    X_train, X_test = X.iloc[train_index], X.iloc[test_index]\n",
    "    y_train = y.iloc[train_index]\n",
    "    y_test = y.iloc[test_index]\n",
    "    \n",
    "from sklearn.dummy import DummyClassifier\n",
    "\n",
    "strat='stratified'\n",
    "\n",
    "dclf = DummyClassifier(strategy=strat).fit(X_train, y_train)\n",
    "y_pred = dclf.predict(X_test)\n",
    "y_true = enc_lbl.inverse_transform(y_test)"
   ]
  },
  {
   "cell_type": "code",
   "execution_count": null,
   "metadata": {},
   "outputs": [],
   "source": []
  },
  {
   "cell_type": "code",
   "execution_count": 29,
   "metadata": {},
   "outputs": [],
   "source": [
    "enc_lbl = LabelEncoder(raw, idle=idle)\n",
    "lbls = enc_lbl.fit_transform(data.df_activities)"
   ]
  },
  {
   "cell_type": "code",
   "execution_count": 30,
   "metadata": {
    "scrolled": false
   },
   "outputs": [
    {
     "data": {
      "image/png": "[encoded data removed]",
      "text/plain": [
       "<Figure size 1080x360 with 3 Axes>"
      ]
     },
     "metadata": {
      "needs_background": "light"
     },
     "output_type": "display_data"
    }
   ],
   "source": [
    "from pyadlml.metrics import plot_true_vs_inf_y\n",
    "plot_true_vs_inf_y(enc_lbl, y_true, y_pred, index=y_true.index)"
   ]
  },
  {
   "cell_type": "code",
   "execution_count": 34,
   "metadata": {},
   "outputs": [
    {
     "data": {
      "text/plain": [
       "time\n",
       "2008-03-20 00:34:38            go to bed\n",
       "2008-03-20 00:34:39            go to bed\n",
       "2008-03-20 00:34:42            go to bed\n",
       "2008-03-20 00:35:10           use toilet\n",
       "2008-03-20 00:35:13           use toilet\n",
       "2008-03-20 00:35:39           use toilet\n",
       "2008-03-20 00:35:40           use toilet\n",
       "2008-03-20 00:35:43           use toilet\n",
       "2008-03-20 00:35:44           use toilet\n",
       "2008-03-20 00:35:45           use toilet\n",
       "2008-03-20 00:35:59           use toilet\n",
       "2008-03-20 00:36:17            go to bed\n",
       "2008-03-20 06:57:51            go to bed\n",
       "2008-03-20 06:57:52            go to bed\n",
       "2008-03-20 06:57:55           use toilet\n",
       "2008-03-20 06:57:56           use toilet\n",
       "2008-03-20 06:57:57           use toilet\n",
       "2008-03-20 06:57:58           use toilet\n",
       "2008-03-20 06:58:15           use toilet\n",
       "2008-03-20 06:58:31           use toilet\n",
       "2008-03-20 06:58:32           use toilet\n",
       "2008-03-20 06:58:33           use toilet\n",
       "2008-03-20 06:58:37           use toilet\n",
       "2008-03-20 06:58:43            go to bed\n",
       "2008-03-20 08:31:02            go to bed\n",
       "2008-03-20 08:31:03            go to bed\n",
       "2008-03-20 08:31:07                 idle\n",
       "2008-03-20 08:45:46           use toilet\n",
       "2008-03-20 08:45:50           use toilet\n",
       "2008-03-20 08:46:55           use toilet\n",
       "2008-03-20 08:46:56           use toilet\n",
       "2008-03-20 08:46:58           use toilet\n",
       "2008-03-20 08:47:01           use toilet\n",
       "2008-03-20 09:12:04    prepare Breakfast\n",
       "2008-03-20 09:12:08    prepare Breakfast\n",
       "2008-03-20 09:12:11    prepare Breakfast\n",
       "2008-03-20 09:12:14    prepare Breakfast\n",
       "2008-03-20 09:12:15    prepare Breakfast\n",
       "2008-03-20 09:12:18    prepare Breakfast\n",
       "2008-03-20 09:12:26    prepare Breakfast\n",
       "2008-03-20 09:12:27    prepare Breakfast\n",
       "2008-03-20 09:12:30    prepare Breakfast\n",
       "2008-03-20 09:12:33    prepare Breakfast\n",
       "2008-03-20 09:12:40    prepare Breakfast\n",
       "2008-03-20 09:12:45    prepare Breakfast\n",
       "2008-03-20 09:13:44    prepare Breakfast\n",
       "2008-03-20 09:13:47    prepare Breakfast\n",
       "2008-03-20 09:14:18    prepare Breakfast\n",
       "2008-03-20 09:14:33    prepare Breakfast\n",
       "2008-03-20 09:14:35    prepare Breakfast\n",
       "dtype: object"
      ]
     },
     "execution_count": 34,
     "metadata": {},
     "output_type": "execute_result"
    }
   ],
   "source": [
    "y_true.head(50)"
   ]
  },
  {
   "cell_type": "code",
   "execution_count": 26,
   "metadata": {},
   "outputs": [
    {
     "data": {
      "text/plain": [
       "array([5, 3, 1, 7, 2, 5, 6, 2, 7, 3, 7, 0, 7, 6, 2, 5, 7, 3, 2, 0, 5, 5,\n",
       "       7, 2, 6, 0, 5, 4, 3, 4, 2, 4, 3, 7, 5, 7, 4, 7, 4, 3, 7, 7, 1, 7,\n",
       "       7, 7, 3, 2, 4, 7, 7, 4, 6])"
      ]
     },
     "execution_count": 26,
     "metadata": {},
     "output_type": "execute_result"
    }
   ],
   "source": [
    "y_pred"
   ]
  },
  {
   "cell_type": "code",
   "execution_count": null,
   "metadata": {},
   "outputs": [],
   "source": []
  }
 ],
 "metadata": {
  "kernelspec": {
   "display_name": "Python 3.8.3 64-bit ('venv_pyadml': venv)",
   "language": "python",
   "name": "python38364bitvenvpyadmlvenvcf785501ed1e426497391a11756f67e3"
  },
  "language_info": {
   "codemirror_mode": {
    "name": "ipython",
    "version": 3
   },
   "file_extension": ".py",
   "mimetype": "text/x-python",
   "name": "python",
   "nbconvert_exporter": "python",
   "pygments_lexer": "ipython3",
   "version": "3.8.5"
  }
 },
 "nbformat": 4,
 "nbformat_minor": 2
}
