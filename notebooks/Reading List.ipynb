{
 "cells": [
  {
   "cell_type": "markdown",
   "metadata": {},
   "source": [
    "\n",
    "\n",
    "Dataset:\n",
    "    https://www.ncbi.nlm.nih.gov/pmc/articles/PMC6982871/"
   ]
  },
  {
   "cell_type": "markdown",
   "metadata": {},
   "source": [
    "\n",
    "\n",
    "Deep learning ROCKET:\n",
    "    https://piyush.dev/research-paper/time-series/classification/2020/07/24/Random-convolutional-kernel-transform.html"
   ]
  },
  {
   "cell_type": "code",
   "execution_count": null,
   "metadata": {},
   "outputs": [],
   "source": [
    "http://timeseriesclassification.com/index.php"
   ]
  },
  {
   "cell_type": "markdown",
   "metadata": {},
   "source": [
    "### Papers with Smarthome\n",
    "\n",
    "#### Survey\n",
    "    - https://link.springer.com/chapter/10.1007/978-3-319-21671-3_9\n",
    "\n",
    "##### LSTM\n",
    "    - https://arxiv.org/abs/1804.07144v1\n",
    "    - https://www.sciencedirect.com/science/article/pii/S1532046418301321\n",
    "    \n",
    "##### HMM\n",
    "    - https://arxiv.org/abs/1903.04820v1\n",
    "    - https://arxiv.org/abs/1810.05504\n",
    "\n",
    "#### iid. SVM, NB, RF....\n",
    "    - https://pubmed.ncbi.nlm.nih.gov/26007727/\n",
    "    \n",
    "#### other\n",
    "    - https://pubmed.ncbi.nlm.nih.gov/30004019/\n",
    "    -  https://archive.ics.uci.edu/ml/datasets/Activities+of+Daily+Living+%28ADLs%29+Recognition+Using+Binary+Sensors"
   ]
  },
  {
   "cell_type": "markdown",
   "metadata": {},
   "source": [
    "### Datasets\n",
    "    - CASAS\n",
    "        - Collecting and disseminating smart home sensor data in the casas project 2009\n",
    "        - http://ailab.wsu.edu/casas/datasets.html\n",
    "    - MAVhome\n",
    "        - Mavhome: an agent-based smart home 2003\n",
    "    - ARAS\n",
    "        - Bogazici University\n",
    "        - https://www.cmpe.boun.edu.tr/aras/\n",
    "    - PlaceLab\n",
    "        - the placelab: a live-in laboratory for pervasive computing\n",
    "    - CARE\n",
    "        - kaasteren Care: Context awareness in ressidences for elderly\n",
    "            http://casas.wsu.edu/datasets/kasterenDataset.zip\n",
    "    - Aware HOME\n",
    "        - THe aware home: a living laboratory for upiquitous computing research\n",
    "    - \n",
    "        https://github.com/du-phan/Human-Activity-Recognition\n",
    "    - MavPad 2004\n",
    "        http://casas.wsu.edu/datasets/mavpad2004.zip\n",
    "        http://casas.wsu.edu/datasets/mavpad2005.zip\n",
    "\n"
   ]
  },
  {
   "cell_type": "code",
   "execution_count": null,
   "metadata": {},
   "outputs": [],
   "source": []
  }
 ],
 "metadata": {
  "kernelspec": {
   "display_name": "Python 3.8.3 64-bit ('venv_pyadml': venv)",
   "language": "python",
   "name": "python38364bitvenvpyadmlvenv33ac728431de4162b682f767a814ee74"
  }
 },
 "nbformat": 4,
 "nbformat_minor": 4
}
