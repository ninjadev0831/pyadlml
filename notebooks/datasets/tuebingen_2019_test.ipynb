{
 "cells": [
  {
   "cell_type": "code",
   "execution_count": 1,
   "metadata": {},
   "outputs": [],
   "source": [
    "import sys\n",
    "sys.path.append(\"../..\")\n",
    "import pandas as pd\n",
    "from pyadlml.dataset.homeassistant import hass_db_2_df"
   ]
  },
  {
   "cell_type": "code",
   "execution_count": 2,
   "metadata": {},
   "outputs": [],
   "source": [
    "db_url = 'sqlite:////' + '/home/chris/data/home-assistant.db'"
   ]
  },
  {
   "cell_type": "code",
   "execution_count": 13,
   "metadata": {},
   "outputs": [],
   "source": [
    "import pandas as pd\n",
    "import numpy as np\n",
    "from urllib.parse import urlparse\n",
    "import pandas as pd\n",
    "from sqlalchemy import create_engine, text\n",
    "\n",
    "\n",
    "def hass_db_2_df(db_url, limit=5000000):\n",
    "    \"\"\"\n",
    "    Parameters\n",
    "    ----------\n",
    "    db_url : String\n",
    "        url to the database \n",
    "    \"\"\"\n",
    "    query = f\"\"\"\n",
    "    SELECT entity_id, state, last_changed\n",
    "    FROM states\n",
    "    WHERE\n",
    "        state NOT IN ('unknown', 'unavailable')\n",
    "    ORDER BY last_changed DESC\n",
    "    LIMIT {limit}\n",
    "    \"\"\"\n",
    "    df = pd.read_sql_query(query, db_url)\n",
    "    return df\n"
   ]
  },
  {
   "cell_type": "code",
   "execution_count": 16,
   "metadata": {},
   "outputs": [],
   "source": [
    "df = hass_db_2_df(db_url)"
   ]
  },
  {
   "cell_type": "code",
   "execution_count": 21,
   "metadata": {},
   "outputs": [],
   "source": [
    "device_list = [\n",
    "    'binary_sensor.ping_chris_laptop',\n",
    "    'binary_sensor.ping_chris_pc',\n",
    "    'binary_sensor.ping_chris_smartphone',\n",
    "    'binary_sensor.pir_motion_floor',\n",
    "    'binary_sensor.pir_motion_mirror',\n",
    "    'binary_sensor.pir_motion_monitor_left',\n",
    "    'binary_sensor.pir_motion_monitor_right',\n",
    "    'binary_sensor.us_distance_floor',\n",
    "    'binary_sensor.us_distance_mirror',\n",
    "    'binary_sensor.us_distance_monitor_left',\n",
    "    'binary_sensor.us_distance_monitor_right',\n",
    "    'switch.chris_computer',\n",
    "    'light.storu_shelf_front',\n",
    "    'light.storu_desk',\n",
    "    'light.storu_coffee',\n",
    "    'light.wall',\n",
    "    'light.storu_mirror', \n",
    "    'switch.senseo_one_cup',\n",
    "    'switch.printer',\n",
    "    'switch.fan',\n",
    "    'switch.storu_mirror_light',\n",
    "    'light.mirror',\n",
    "]"
   ]
  },
  {
   "cell_type": "code",
   "execution_count": 32,
   "metadata": {},
   "outputs": [],
   "source": [
    "def hass_db_2_data(db_url, device_list, start_time=None):\n",
    "    \"\"\"\n",
    "    Parameters\n",
    "    ----------\n",
    "    Returns\n",
    "    -------\n",
    "    df : pd.DataFrame\n",
    "    df2 : pd.DataFrame\n",
    "        \n",
    "    \"\"\"\n",
    "    device_dict = {device_list[i]:i for i in range(len(device_list))}\n",
    "    \n",
    "    df = hass_db_2_df(db_url)\n",
    "    df = df[df['entity_id'].isin(device_list)]\n",
    "    df['time'] = pd.to_datetime(df['last_changed'])\n",
    "    df['val'] = (df['state'] == 'on').astype(int)\n",
    "    df['device'] = df['entity_id']\n",
    "    df = df[[ 'time', 'device','val']]\n",
    "    \n",
    "    # encode data\n",
    "    df['device'] = df[\"device\"].replace(device_dict)\n",
    "    \n",
    "    # create feature map\n",
    "    df2 = pd.DataFrame(device_list, columns=['devices'])\n",
    "    df2 = df2.reset_index()\n",
    "    df2.columns = ['id', 'devices']\n",
    "    return df, df2"
   ]
  },
  {
   "cell_type": "code",
   "execution_count": 33,
   "metadata": {},
   "outputs": [],
   "source": [
    "df, df2 = hass_db_2_data(db_url, device_list)"
   ]
  },
  {
   "cell_type": "code",
   "execution_count": 34,
   "metadata": {},
   "outputs": [],
   "source": [
    "df2.to_csv('/home/chris/data/device_mapping.csv', sep=',', index=False)"
   ]
  },
  {
   "cell_type": "code",
   "execution_count": 35,
   "metadata": {},
   "outputs": [],
   "source": [
    "df.to_csv('/home/chris/data/data.csv', sep=',', header=True, index=False)"
   ]
  },
  {
   "cell_type": "code",
   "execution_count": null,
   "metadata": {},
   "outputs": [],
   "source": []
  },
  {
   "cell_type": "code",
   "execution_count": null,
   "metadata": {},
   "outputs": [],
   "source": []
  },
  {
   "cell_type": "code",
   "execution_count": null,
   "metadata": {},
   "outputs": [],
   "source": []
  },
  {
   "cell_type": "code",
   "execution_count": null,
   "metadata": {},
   "outputs": [],
   "source": []
  },
  {
   "cell_type": "code",
   "execution_count": null,
   "metadata": {},
   "outputs": [],
   "source": []
  }
 ],
 "metadata": {
  "kernelspec": {
   "display_name": "Python 3",
   "language": "python",
   "name": "python3"
  },
  "language_info": {
   "codemirror_mode": {
    "name": "ipython",
    "version": 3
   },
   "file_extension": ".py",
   "mimetype": "text/x-python",
   "name": "python",
   "nbconvert_exporter": "python",
   "pygments_lexer": "ipython3",
   "version": "3.8.5"
  }
 },
 "nbformat": 4,
 "nbformat_minor": 2
}
