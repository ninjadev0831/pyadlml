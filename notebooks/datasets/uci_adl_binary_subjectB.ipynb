{
 "cells": [
  {
   "cell_type": "markdown",
   "metadata": {},
   "source": [
    "## UCI ADL Binary\n",
    "\n",
    "Ordonez, F.J.; de Toledo, P.; Sanchis, A. Activity Recognition Using Hybrid Generative/Discriminative Models on Home Environments Using Binary Sensors. Sensors 2013, 13, 5460-5477.\n",
    "\n",
    "### Description\n",
    "This dataset comprises information regarding the ADLs performed by two users on a daily basis in their \n",
    "own homes. This dataset is composed by two instances of data, each one corresponding to a different \n",
    "user and summing up to 35 days of fully labelled data. Each instance of the dataset is described by \n",
    "three text files, namely: description, sensors events (features), activities of the daily living (labels). \n",
    "Sensor events were recorded using a wireless sensor network and data were labelled manually.\n",
    "\n",
    "### House\n",
    "Home setting: 5 rooms house\n",
    "Number of labelled days: 21 days\n",
    "\tLabels (ADLs included): Leaving, Toileting, Showering, Sleeping, Breakfast, Lunch, Dinner, Snack, Spare_Time/TV, Grooming\n",
    "Number of sensors: 12 sensors\n",
    "\tSensors: \tPIR: Shower, Basin, Door Kitchen, Door Bathroom, Door Bedroom\n",
    "\t\t\t\tMagnetic: Maindoor, Fridge, Cupboard\n",
    "\t\t\t\tFlush: Toilet\n",
    "\t\t\t\tPressure: Seat, Bed\n",
    "\t\t\t\tElectric: Microwave \n"
   ]
  },
  {
   "cell_type": "code",
   "execution_count": 1,
   "metadata": {},
   "outputs": [],
   "source": [
    "import sys\n",
    "sys.path.append(\"../..\")\n",
    "import pandas as pd\n",
    "import matplotlib.pyplot as plt"
   ]
  },
  {
   "cell_type": "code",
   "execution_count": 2,
   "metadata": {},
   "outputs": [
    {
     "data": {
      "text/html": [
       "        <script type=\"text/javascript\">\n",
       "        window.PlotlyConfig = {MathJaxConfig: 'local'};\n",
       "        if (window.MathJax) {MathJax.Hub.Config({SVG: {font: \"STIX-Web\"}});}\n",
       "        if (typeof require !== 'undefined') {\n",
       "        require.undef(\"plotly\");\n",
       "        requirejs.config({\n",
       "            paths: {\n",
       "                'plotly': ['https://cdn.plot.ly/plotly-latest.min']\n",
       "            }\n",
       "        });\n",
       "        require(['plotly'], function(Plotly) {\n",
       "            window._Plotly = Plotly;\n",
       "        });\n",
       "        }\n",
       "        </script>\n",
       "        "
      ]
     },
     "metadata": {},
     "output_type": "display_data"
    }
   ],
   "source": [
    "import plotly\n",
    "plotly.offline.init_notebook_mode(connected=True)"
   ]
  },
  {
   "cell_type": "code",
   "execution_count": 3,
   "metadata": {},
   "outputs": [],
   "source": [
    "from pyadlml.dataset import set_data_home, fetch_uci_adl_binary\n",
    "set_data_home('/home/chris/code/adlml/data_home')\n",
    "\n",
    "subject = 'OrdonezB'\n",
    "data = fetch_uci_adl_binary(keep_original=True, cache=True, subject=subject)"
   ]
  },
  {
   "cell_type": "code",
   "execution_count": 4,
   "metadata": {},
   "outputs": [
    {
     "data": {
      "text/html": [
       "<div>\n",
       "<style scoped>\n",
       "    .dataframe tbody tr th:only-of-type {\n",
       "        vertical-align: middle;\n",
       "    }\n",
       "\n",
       "    .dataframe tbody tr th {\n",
       "        vertical-align: top;\n",
       "    }\n",
       "\n",
       "    .dataframe thead th {\n",
       "        text-align: right;\n",
       "    }\n",
       "</style>\n",
       "<table border=\"1\" class=\"dataframe\">\n",
       "  <thead>\n",
       "    <tr style=\"text-align: right;\">\n",
       "      <th></th>\n",
       "      <th>start_time</th>\n",
       "      <th>end_time</th>\n",
       "      <th>activity</th>\n",
       "    </tr>\n",
       "  </thead>\n",
       "  <tbody>\n",
       "    <tr>\n",
       "      <th>0</th>\n",
       "      <td>2012-11-11 21:14:00</td>\n",
       "      <td>2012-11-12 00:22:59</td>\n",
       "      <td>Spare_Time/TV</td>\n",
       "    </tr>\n",
       "    <tr>\n",
       "      <th>1</th>\n",
       "      <td>2012-11-12 00:24:00</td>\n",
       "      <td>2012-11-12 00:43:59</td>\n",
       "      <td>Spare_Time/TV</td>\n",
       "    </tr>\n",
       "    <tr>\n",
       "      <th>2</th>\n",
       "      <td>2012-11-12 00:48:00</td>\n",
       "      <td>2012-11-12 00:49:59</td>\n",
       "      <td>Grooming</td>\n",
       "    </tr>\n",
       "    <tr>\n",
       "      <th>3</th>\n",
       "      <td>2012-11-12 00:50:00</td>\n",
       "      <td>2012-11-12 01:51:59</td>\n",
       "      <td>Spare_Time/TV</td>\n",
       "    </tr>\n",
       "    <tr>\n",
       "      <th>4</th>\n",
       "      <td>2012-11-12 01:52:00</td>\n",
       "      <td>2012-11-12 01:52:59</td>\n",
       "      <td>Grooming</td>\n",
       "    </tr>\n",
       "  </tbody>\n",
       "</table>\n",
       "</div>"
      ],
      "text/plain": [
       "           start_time            end_time       activity\n",
       "0 2012-11-11 21:14:00 2012-11-12 00:22:59  Spare_Time/TV\n",
       "1 2012-11-12 00:24:00 2012-11-12 00:43:59  Spare_Time/TV\n",
       "2 2012-11-12 00:48:00 2012-11-12 00:49:59       Grooming\n",
       "3 2012-11-12 00:50:00 2012-11-12 01:51:59  Spare_Time/TV\n",
       "4 2012-11-12 01:52:00 2012-11-12 01:52:59       Grooming"
      ]
     },
     "execution_count": 4,
     "metadata": {},
     "output_type": "execute_result"
    }
   ],
   "source": [
    "data.df_activities.head()"
   ]
  },
  {
   "cell_type": "code",
   "execution_count": 5,
   "metadata": {},
   "outputs": [
    {
     "data": {
      "text/html": [
       "<div>\n",
       "<style scoped>\n",
       "    .dataframe tbody tr th:only-of-type {\n",
       "        vertical-align: middle;\n",
       "    }\n",
       "\n",
       "    .dataframe tbody tr th {\n",
       "        vertical-align: top;\n",
       "    }\n",
       "\n",
       "    .dataframe thead th {\n",
       "        text-align: right;\n",
       "    }\n",
       "</style>\n",
       "<table border=\"1\" class=\"dataframe\">\n",
       "  <thead>\n",
       "    <tr style=\"text-align: right;\">\n",
       "      <th></th>\n",
       "      <th>time</th>\n",
       "      <th>device</th>\n",
       "      <th>val</th>\n",
       "    </tr>\n",
       "  </thead>\n",
       "  <tbody>\n",
       "    <tr>\n",
       "      <th>0</th>\n",
       "      <td>2012-11-11 21:14:21</td>\n",
       "      <td>Living Seat Pressure</td>\n",
       "      <td>True</td>\n",
       "    </tr>\n",
       "    <tr>\n",
       "      <th>1</th>\n",
       "      <td>2012-11-12 00:21:49</td>\n",
       "      <td>Living Seat Pressure</td>\n",
       "      <td>False</td>\n",
       "    </tr>\n",
       "    <tr>\n",
       "      <th>2</th>\n",
       "      <td>2012-11-12 00:22:57</td>\n",
       "      <td>Living Door PIR</td>\n",
       "      <td>True</td>\n",
       "    </tr>\n",
       "    <tr>\n",
       "      <th>3</th>\n",
       "      <td>2012-11-12 00:22:59</td>\n",
       "      <td>Living Door PIR</td>\n",
       "      <td>False</td>\n",
       "    </tr>\n",
       "    <tr>\n",
       "      <th>4</th>\n",
       "      <td>2012-11-12 00:23:14</td>\n",
       "      <td>Kitchen Door PIR</td>\n",
       "      <td>True</td>\n",
       "    </tr>\n",
       "  </tbody>\n",
       "</table>\n",
       "</div>"
      ],
      "text/plain": [
       "                 time                device    val\n",
       "0 2012-11-11 21:14:21  Living Seat Pressure   True\n",
       "1 2012-11-12 00:21:49  Living Seat Pressure  False\n",
       "2 2012-11-12 00:22:57       Living Door PIR   True\n",
       "3 2012-11-12 00:22:59       Living Door PIR  False\n",
       "4 2012-11-12 00:23:14      Kitchen Door PIR   True"
      ]
     },
     "execution_count": 5,
     "metadata": {},
     "output_type": "execute_result"
    }
   ],
   "source": [
    "data.df_devices.head()"
   ]
  },
  {
   "cell_type": "markdown",
   "metadata": {},
   "source": [
    "## Activities"
   ]
  },
  {
   "cell_type": "code",
   "execution_count": 6,
   "metadata": {},
   "outputs": [
    {
     "name": "stdout",
     "output_type": "stream",
     "text": [
      "There were  10 activities recorded\n"
     ]
    }
   ],
   "source": [
    "print('There were ', len(data.df_activities['activity'].unique()), 'activities recorded')"
   ]
  },
  {
   "cell_type": "code",
   "execution_count": 7,
   "metadata": {},
   "outputs": [
    {
     "data": {
      "image/png": "[encoded data removed]",
      "text/plain": [
       "<Figure size 576x360 with 1 Axes>"
      ]
     },
     "metadata": {
      "needs_background": "light"
     },
     "output_type": "display_data"
    }
   ],
   "source": [
    "from pyadlml.dataset.plot.activities import hist_counts\n",
    "\n",
    "idle = True\n",
    "hist_counts(data.df_activities, idle=idle);"
   ]
  },
  {
   "cell_type": "code",
   "execution_count": 8,
   "metadata": {},
   "outputs": [
    {
     "data": {
      "image/png": "[encoded data removed]",
      "text/plain": [
       "<Figure size 576x288 with 1 Axes>"
      ]
     },
     "metadata": {
      "needs_background": "light"
     },
     "output_type": "display_data"
    }
   ],
   "source": [
    "from pyadlml.dataset.plot.activities import boxplot_duration\n",
    "\n",
    "idle = False\n",
    "boxplot_duration(data.df_activities, idle=idle);"
   ]
  },
  {
   "cell_type": "code",
   "execution_count": 9,
   "metadata": {},
   "outputs": [
    {
     "data": {
      "image/png": "[encoded data removed]",
      "text/plain": [
       "<Figure size 576x360 with 1 Axes>"
      ]
     },
     "metadata": {
      "needs_background": "light"
     },
     "output_type": "display_data"
    }
   ],
   "source": [
    "from pyadlml.dataset.plot.activities import hist_cum_duration\n",
    "\n",
    "idle = True\n",
    "y_scale = 'log'\n",
    "hist_cum_duration(data.df_activities, y_scale=y_scale, idle=idle);"
   ]
  },
  {
   "cell_type": "raw",
   "metadata": {},
   "source": [
    "TODO\n",
    "from pyadlml.dataset.plot.activities import ridge_line\n",
    "#Parameters\n",
    "n = 100 # number of samples to draw to approximate distribution\n",
    "# TODO change the calculation by mapping each interval onto a second grid with 1's for stuff\n",
    "# in the interval and 0's outside. Add all intervals on each other to get the histogram\n",
    "idle = False\n",
    "dist_scale = 0.12 \n",
    "ylim_upper = 0.01\n",
    "\n",
    "ridge_line(data.df_activities, n=n, dist_scale=dist_scale,\n",
    "           ylim_upper=ylim_upper, idle=idle)"
   ]
  },
  {
   "cell_type": "markdown",
   "metadata": {},
   "source": [
    "#### Transition Heatmap"
   ]
  },
  {
   "cell_type": "code",
   "execution_count": 10,
   "metadata": {
    "scrolled": false
   },
   "outputs": [
    {
     "data": {
      "image/png": "[encoded data removed]",
      "text/plain": [
       "<Figure size 360x360 with 2 Axes>"
      ]
     },
     "metadata": {
      "needs_background": "light"
     },
     "output_type": "display_data"
    }
   ],
   "source": [
    "from pyadlml.dataset.plot.activities import heatmap_transitions\n",
    "\n",
    "idle = False\n",
    "z_scale = None #'log'\n",
    "heatmap_transitions(data.df_activities, z_scale=z_scale, idle=idle, figsize=(5,5));"
   ]
  },
  {
   "cell_type": "markdown",
   "metadata": {},
   "source": [
    "## Devices"
   ]
  },
  {
   "cell_type": "code",
   "execution_count": 11,
   "metadata": {},
   "outputs": [
    {
     "name": "stdout",
     "output_type": "stream",
     "text": [
      "There are 12 devices recorded.\n"
     ]
    }
   ],
   "source": [
    "print('There are', len(data.df_devices['device'].unique()), 'devices recorded.')"
   ]
  },
  {
   "cell_type": "code",
   "execution_count": 12,
   "metadata": {},
   "outputs": [],
   "source": [
    "from pyadlml.dataset.devices import device_rep1_2_rep2\n",
    "rep2_nodrop, syn_acts = device_rep1_2_rep2(data.df_devices, drop=False)\n",
    "rep2_drop = device_rep1_2_rep2(data.df_devices, drop=True)"
   ]
  },
  {
   "cell_type": "code",
   "execution_count": 13,
   "metadata": {},
   "outputs": [
    {
     "data": {
      "image/png": "[encoded data removed]",
      "text/plain": [
       "<Figure size 576x360 with 1 Axes>"
      ]
     },
     "metadata": {
      "needs_background": "light"
     },
     "output_type": "display_data"
    }
   ],
   "source": [
    "from pyadlml.dataset.plot.devices import hist_counts\n",
    "hist_counts(data.df_devices);#, y_scale='log');"
   ]
  },
  {
   "cell_type": "code",
   "execution_count": 14,
   "metadata": {},
   "outputs": [
    {
     "data": {
      "image/png": "[encoded data removed]",
      "text/plain": [
       "<Figure size 576x360 with 1 Axes>"
      ]
     },
     "execution_count": 14,
     "metadata": {},
     "output_type": "execute_result"
    },
    {
     "data": {
      "image/png": "[encoded data removed]",
      "text/plain": [
       "<Figure size 576x360 with 1 Axes>"
      ]
     },
     "metadata": {
      "needs_background": "light"
     },
     "output_type": "display_data"
    }
   ],
   "source": [
    "from pyadlml.dataset.plot.devices import hist_on_off\n",
    "hist_on_off(rep2_nodrop)"
   ]
  },
  {
   "cell_type": "code",
   "execution_count": 15,
   "metadata": {},
   "outputs": [
    {
     "ename": "ImportError",
     "evalue": "cannot import name 'boxsplot_on_duration' from 'pyadlml.dataset.plot.devices' (../../pyadlml/dataset/plot/devices.py)",
     "output_type": "error",
     "traceback": [
      "\u001b[0;31m---------------------------------------------------------------------------\u001b[0m",
      "\u001b[0;31mImportError\u001b[0m                               Traceback (most recent call last)",
      "\u001b[0;32m<ipython-input-15-fdb75e6cd2b2>\u001b[0m in \u001b[0;36m<module>\u001b[0;34m\u001b[0m\n\u001b[0;32m----> 1\u001b[0;31m \u001b[0;32mfrom\u001b[0m \u001b[0mpyadlml\u001b[0m\u001b[0;34m.\u001b[0m\u001b[0mdataset\u001b[0m\u001b[0;34m.\u001b[0m\u001b[0mplot\u001b[0m\u001b[0;34m.\u001b[0m\u001b[0mdevices\u001b[0m \u001b[0;32mimport\u001b[0m \u001b[0mboxsplot_on_duration\u001b[0m\u001b[0;34m\u001b[0m\u001b[0;34m\u001b[0m\u001b[0m\n\u001b[0m\u001b[1;32m      2\u001b[0m \u001b[0mboxsplot_on_duration\u001b[0m\u001b[0;34m(\u001b[0m\u001b[0mrep2_nodrop\u001b[0m\u001b[0;34m)\u001b[0m\u001b[0;34m;\u001b[0m\u001b[0;34m\u001b[0m\u001b[0;34m\u001b[0m\u001b[0m\n",
      "\u001b[0;31mImportError\u001b[0m: cannot import name 'boxsplot_on_duration' from 'pyadlml.dataset.plot.devices' (../../pyadlml/dataset/plot/devices.py)"
     ]
    }
   ],
   "source": [
    "from pyadlml.dataset.plot.devices import boxsplot_on_duration\n",
    "boxsplot_on_duration(rep2_nodrop);"
   ]
  },
  {
   "cell_type": "code",
   "execution_count": null,
   "metadata": {},
   "outputs": [],
   "source": [
    "from pyadlml.dataset.plot.devices import heatmap_trigger_one_day\n",
    "heatmap_trigger_one_day(data.df_devices, t_res='10m');"
   ]
  },
  {
   "cell_type": "code",
   "execution_count": null,
   "metadata": {},
   "outputs": [],
   "source": [
    "from pyadlml.dataset.plot.devices import heatmap_trigger_time\n",
    "\n",
    "t_window = '30s'\n",
    "z_scale = 'log'\n",
    "\n",
    "heatmap_trigger_time(data.df_devices, t_window=t_window, z_scale=z_scale);"
   ]
  },
  {
   "cell_type": "code",
   "execution_count": null,
   "metadata": {},
   "outputs": [],
   "source": [
    "from pyadlml.dataset.plot.devices import heatmap_cross_correlation\n",
    "heatmap_cross_correlation(data.df_devices)"
   ]
  },
  {
   "cell_type": "code",
   "execution_count": null,
   "metadata": {},
   "outputs": [],
   "source": [
    "from pyadlml.dataset.plot.devices import hist_trigger_time_diff\n",
    "hist_trigger_time_diff(data.df_devices);"
   ]
  },
  {
   "cell_type": "code",
   "execution_count": null,
   "metadata": {
    "scrolled": false,
    "tags": []
   },
   "outputs": [],
   "source": [
    "from pyadlml.dataset.plot.devices import hist_counts\n",
    "hist_counts(data.df_devices);#, y_scale='log');"
   ]
  },
  {
   "cell_type": "markdown",
   "metadata": {},
   "source": [
    "The distribution of triggers is also exponentially decaying for some devices e.g the Washingmaschine is used a lot less than the Hall-Bathroom door."
   ]
  },
  {
   "cell_type": "markdown",
   "metadata": {},
   "source": [
    "## Activites ~ Devices\n",
    "\n",
    "\n",
    "### Triggers"
   ]
  },
  {
   "cell_type": "code",
   "execution_count": null,
   "metadata": {},
   "outputs": [],
   "source": [
    "from pyadlml.dataset.plot import heatmap_contingency_triggers\n",
    "\n",
    "idle = True\n",
    "z_scale = None#'log'\n",
    "\n",
    "heatmap_contingency_triggers(data.df_devices, data.df_activities, idle=idle, z_scale=z_scale);"
   ]
  },
  {
   "cell_type": "code",
   "execution_count": null,
   "metadata": {},
   "outputs": [],
   "source": [
    "from pyadlml.dataset.plot import heatmap_contingency_triggers_01\n",
    "\n",
    "idle = True\n",
    "z_scale = None#'log'\n",
    "\n",
    "heatmap_contingency_triggers_01(data.df_devices, data.df_activities, idle=idle, z_scale=z_scale);"
   ]
  },
  {
   "cell_type": "markdown",
   "metadata": {},
   "source": [
    "### Duration"
   ]
  },
  {
   "cell_type": "raw",
   "metadata": {},
   "source": [
    "from pyadlml.dataset.stats import contingency_intervals\n",
    "df_con = contingency_intervals(data.df_devices, data.df_activities)"
   ]
  },
  {
   "cell_type": "code",
   "execution_count": null,
   "metadata": {},
   "outputs": [],
   "source": [
    "from pyadlml.dataset.plot import heatmap_contingency_overlaps\n",
    "\n",
    "z_scale='log'\n",
    "idle=True\n",
    "\n",
    "heatmap_contingency_overlaps(data.df_devices, data.df_activities, z_scale=z_scale, idle=idle)"
   ]
  },
  {
   "cell_type": "markdown",
   "metadata": {},
   "source": [
    "# Representations\n",
    "\n",
    "There are different ways to represent our data. One way is to discretize the data into intervals."
   ]
  },
  {
   "cell_type": "markdown",
   "metadata": {},
   "source": [
    "- RAW representation _____|^^^^^^|______  \n",
    "    is 1 whenever the sensor is 'on' and 0 otherwise \n",
    "\n",
    "- Changepoint representation ______|________|______  \n",
    "    sensor gives a 1 to timeslices where the sensor reading changes\n",
    "\n",
    "- LastFired representation ______|^^^^^^^^^  \n",
    "    last sensor that changed state gives cont. 1\n",
    "\n",
    "- Lagged representation\n",
    "    the "
   ]
  },
  {
   "cell_type": "markdown",
   "metadata": {},
   "source": [
    "## RAW - representation"
   ]
  },
  {
   "cell_type": "code",
   "execution_count": null,
   "metadata": {},
   "outputs": [],
   "source": [
    "from pyadlml.preprocessing import RawEncoder\n",
    "\n",
    "enc_raw = RawEncoder()\n",
    "raw = enc_raw.fit_transform(data.df_devices)"
   ]
  },
  {
   "cell_type": "code",
   "execution_count": null,
   "metadata": {},
   "outputs": [],
   "source": [
    "from pyadlml.preprocessing import LabelEncoder\n",
    "\n",
    "enc_lbl = LabelEncoder(raw)\n",
    "lbls = enc_lbl.fit_transform(data.df_activities)"
   ]
  },
  {
   "cell_type": "raw",
   "metadata": {},
   "source": [
    "enc_lbl.transform(data.df_activities)"
   ]
  },
  {
   "cell_type": "raw",
   "metadata": {},
   "source": [
    "raw"
   ]
  },
  {
   "cell_type": "code",
   "execution_count": null,
   "metadata": {},
   "outputs": [],
   "source": [
    "import numpy as np\n",
    "\n",
    "def check_raw_undiscretized(raw):\n",
    "    # should not contain any  nan values\n",
    "    assert not raw.isnull().values.any()\n",
    "    \n",
    "    # rows can only differ in one number\n",
    "    for i in range(1, len(raw)):\n",
    "        assert 1 == np.abs(np.sum(raw.iloc[i-1].values - raw.iloc[i].values))\n",
    "    \n",
    "check_raw_undiscretized(raw)"
   ]
  },
  {
   "cell_type": "raw",
   "metadata": {},
   "source": [
    "t_res = '60s'\n",
    "idle = True\n",
    "st='int_coverage'\n",
    "\n",
    "enc_raw = RawEncoder(t_res=t_res, sample_strat=st)\n",
    "raw = enc_raw.fit_transform(data.df_devices)\n",
    "\n",
    "enc_lbl = LabelEncoder(raw, idle=idle)\n",
    "lbls = enc_lbl.fit_transform(data.df_activities)"
   ]
  },
  {
   "cell_type": "code",
   "execution_count": null,
   "metadata": {},
   "outputs": [],
   "source": [
    "def check_raw(raw):\n",
    "    # should not contain any  nan values\n",
    "    assert not raw.isnull().values.any()\n",
    "    \n",
    "check_raw(raw)"
   ]
  },
  {
   "cell_type": "raw",
   "metadata": {},
   "source": [
    "raw"
   ]
  },
  {
   "cell_type": "code",
   "execution_count": null,
   "metadata": {
    "tags": []
   },
   "outputs": [],
   "source": [
    "from pyadlml.dataset.plot.raw import hist_activities\n",
    "\n",
    "hist_activities(enc_lbl.inverse_transform(lbls), scale='log')#, figsize=(10,8))"
   ]
  },
  {
   "cell_type": "code",
   "execution_count": null,
   "metadata": {},
   "outputs": [],
   "source": [
    "from pyadlml.dataset.plot.raw import heatmap_contingency_01\n",
    "\n",
    "z_scale = 'log'\n",
    "rep = 'raw'\n",
    "\n",
    "heatmap_contingency_01(raw, enc_lbl.inverse_transform(lbls), rep=rep, z_scale=z_scale);"
   ]
  },
  {
   "cell_type": "code",
   "execution_count": null,
   "metadata": {
    "scrolled": false
   },
   "outputs": [],
   "source": [
    "from pyadlml.dataset.plot.raw import heatmap_cross_correlation\n",
    "\n",
    "heatmap_cross_correlation(raw);"
   ]
  },
  {
   "cell_type": "code",
   "execution_count": null,
   "metadata": {},
   "outputs": [],
   "source": [
    "# TODO sth. is wrong here\n",
    "#from pyadlml.dataset.plot.raw import corr_devices_01\n",
    "#corr_devices_01(raw)"
   ]
  },
  {
   "cell_type": "markdown",
   "metadata": {},
   "source": [
    "## Changepoint - representation\n",
    "Raw: _____|^^^^^^|______  \n",
    "\n",
    "CP :  ______|________|______  \n",
    "\n",
    "sensor gives a 1 to timeslices where the sensor reading changes"
   ]
  },
  {
   "cell_type": "code",
   "execution_count": null,
   "metadata": {},
   "outputs": [],
   "source": [
    "from pyadlml.preprocessing import ChangepointEncoder\n",
    "\n",
    "idle = True\n",
    "t_res = '60s'\n",
    "\n",
    "cp_enc = ChangepointEncoder(t_res=t_res)\n",
    "cp = cp_enc.fit_transform(data.df_devices)"
   ]
  },
  {
   "cell_type": "code",
   "execution_count": null,
   "metadata": {},
   "outputs": [],
   "source": [
    "from pyadlml.preprocessing import LabelEncoder\n",
    "\n",
    "enc_lbl = LabelEncoder(cp, idle=idle)\n",
    "lbls = enc_lbl.fit_transform(data.df_activities)"
   ]
  },
  {
   "cell_type": "code",
   "execution_count": null,
   "metadata": {},
   "outputs": [],
   "source": [
    "def check_changepoint(cp):\n",
    "    # should not contain any  nan values\n",
    "    assert not cp.isnull().values.any()\n",
    "\n",
    "check_changepoint(cp)"
   ]
  },
  {
   "cell_type": "code",
   "execution_count": null,
   "metadata": {},
   "outputs": [],
   "source": [
    "from pyadlml.dataset.plot.raw import heatmap_contingency_01\n",
    "\n",
    "z_scale = 'log'\n",
    "rep = 'Changepoint'\n",
    "\n",
    "heatmap_contingency_01(cp, enc_lbl.inverse_transform(lbls), rep=rep, z_scale=z_scale);"
   ]
  },
  {
   "cell_type": "code",
   "execution_count": null,
   "metadata": {
    "scrolled": false
   },
   "outputs": [],
   "source": [
    "from pyadlml.dataset.plot.raw import heatmap_cross_correlation\n",
    "\n",
    "heatmap_cross_correlation(cp);"
   ]
  },
  {
   "cell_type": "raw",
   "metadata": {},
   "source": [
    "from pyadlml.dataset.plot.raw import corr_devices_01\n",
    "corr_devices_01(cp)"
   ]
  },
  {
   "cell_type": "markdown",
   "metadata": {},
   "source": [
    "## LastFired - representation\n",
    "______|^^^^^^^^^  \n",
    "\n",
    "last sensor that changed state gives cont. 1"
   ]
  },
  {
   "cell_type": "code",
   "execution_count": null,
   "metadata": {},
   "outputs": [],
   "source": [
    "from pyadlml.preprocessing import LastFiredEncoder\n",
    "\n",
    "t_res = '60s'\n",
    "idle=True\n",
    "\n",
    "lf_enc = LastFiredEncoder(t_res=t_res)\n",
    "lf = lf_enc.fit_transform(data.df_devices)"
   ]
  },
  {
   "cell_type": "code",
   "execution_count": null,
   "metadata": {},
   "outputs": [],
   "source": [
    "from pyadlml.preprocessing import LabelEncoder\n",
    "\n",
    "enc_lbl = LabelEncoder(lf, idle=idle)\n",
    "lbls = enc_lbl.fit_transform(data.df_activities)"
   ]
  },
  {
   "cell_type": "code",
   "execution_count": null,
   "metadata": {},
   "outputs": [],
   "source": [
    "def check_lastfired(lf):\n",
    "    # should not contain any  nan values\n",
    "    assert not lf.isnull().values.any()\n",
    "    \n",
    "    # each row has to have exactly one device being on\n",
    "    for row in lf.iterrows():\n",
    "        assert 1 == row[1].values.sum()\n",
    "\n",
    "check_lastfired(lf)"
   ]
  },
  {
   "cell_type": "code",
   "execution_count": null,
   "metadata": {},
   "outputs": [],
   "source": [
    "from pyadlml.dataset.plot.raw import heatmap_contingency_01\n",
    "\n",
    "z_scale = 'log'\n",
    "rep = 'LastFired'\n",
    "\n",
    "heatmap_contingency_01(lf, enc_lbl.inverse_transform(lbls), rep=rep, z_scale=z_scale);"
   ]
  },
  {
   "cell_type": "code",
   "execution_count": null,
   "metadata": {},
   "outputs": [],
   "source": [
    "from pyadlml.dataset.plot.raw import heatmap_cross_correlation\n",
    "\n",
    "heatmap_cross_correlation(lf);"
   ]
  },
  {
   "cell_type": "raw",
   "metadata": {},
   "source": [
    "from pyadlml.dataset.plot.raw import corr_devices_01\n",
    "corr_devices_01(lf)"
   ]
  },
  {
   "cell_type": "markdown",
   "metadata": {},
   "source": [
    "## Image - representation\n",
    "\n",
    "a lot of timeseries can be represented as images. There are good algorithms for images available. There are Recurrence Plots (RP), Gramian Angular Field (GAF) (bad for binary data), Markov Transition Field (MTF): https://doi.org/10.3390/electronics9010068.\n",
    "\n",
    "\n",
    "Gramian Angular field: \n",
    "    https://medium.com/analytics-vidhya/encoding-time-series-as-images-b043becbdbf3\n",
    "    \n",
    "    https://pyts.readthedocs.io/en/stable/auto_examples/image/plot_mtf.html#sphx-glr-auto-examples-image-plot-mtf-py"
   ]
  },
  {
   "cell_type": "markdown",
   "metadata": {},
   "source": [
    "### Lagged RAW\n",
    "\n",
    "The lagged raw representation generates a 3D tensor from the raw input. A state at time $t$ is $1D$ vector. The window size determines how big the $2D$ picture is. Stack the windows in the third dimension.\n",
    "\n",
    "Also see last part of\n",
    "https://towardsdatascience.com/ml-approaches-for-time-series-4d44722e48fe"
   ]
  },
  {
   "cell_type": "code",
   "execution_count": null,
   "metadata": {},
   "outputs": [],
   "source": [
    "from pyadlml.preprocessing import LaggedRawEncoder, LaggedLabelEncoder\n",
    "\n",
    "window_size = 20\n",
    "t_res = '2min'\n",
    "sample_strat = 'int_coverage'\n",
    "idle = True\n",
    "\n",
    "enc_lgd_raw = LaggedRawEncoder(window_size, \n",
    "                               t_res=t_res, \n",
    "                               sample_strat=sample_strat)\n",
    "\n",
    "images = enc_lgd_raw.fit_transform(data.df_devices)"
   ]
  },
  {
   "cell_type": "code",
   "execution_count": null,
   "metadata": {},
   "outputs": [],
   "source": [
    "images.shape"
   ]
  },
  {
   "cell_type": "code",
   "execution_count": null,
   "metadata": {},
   "outputs": [],
   "source": [
    "enc_lgd_lbl = LaggedLabelEncoder(data.df_devices,\n",
    "                                        window_size, \n",
    "                                        t_res=t_res,\n",
    "                                        idle=idle)\n",
    "\n",
    "labels = enc_lgd_lbl.fit_transform(data.df_activities)\n",
    "labels.shape"
   ]
  },
  {
   "cell_type": "code",
   "execution_count": null,
   "metadata": {},
   "outputs": [],
   "source": [
    "from pyadlml.dataset.plot.image import mean_image\n",
    "\n",
    "mean_image(images, data.devices)"
   ]
  },
  {
   "cell_type": "code",
   "execution_count": null,
   "metadata": {},
   "outputs": [],
   "source": [
    "from pyadlml.dataset.plot.image import mean_image_per_activity\n",
    "\n",
    "X = images\n",
    "y = enc_lgd_lbl.inverse_transform(labels)\n",
    "\n",
    "mean_image_per_activity(X, y, data.devices)"
   ]
  },
  {
   "cell_type": "markdown",
   "metadata": {},
   "source": [
    "# Lagged Changepoint representation"
   ]
  },
  {
   "cell_type": "code",
   "execution_count": null,
   "metadata": {},
   "outputs": [],
   "source": [
    "from pyadlml.preprocessing import LaggedChangepointEncoder\n",
    "window_size = 20\n",
    "t_res = '2min'\n",
    "sample_strat = 'int_coverage'\n",
    "idle = True\n",
    "\n",
    "\n",
    "enc_lgd_cp = LaggedChangepointEncoder(window_size, t_res=t_res)\n",
    "images = enc_lgd_cp.fit_transform(data.df_devices)\n",
    "images.shape"
   ]
  },
  {
   "cell_type": "code",
   "execution_count": null,
   "metadata": {},
   "outputs": [],
   "source": [
    "from pyadlml.dataset.plot.image import mean_image\n",
    "\n",
    "mean_image(images, data.devices)"
   ]
  },
  {
   "cell_type": "code",
   "execution_count": null,
   "metadata": {},
   "outputs": [],
   "source": [
    "enc_lgd_lbl = LaggedLabelEncoder(data.df_devices,\n",
    "                                        window_size, \n",
    "                                        t_res=t_res,\n",
    "                                        idle=idle)\n",
    "\n",
    "labels = enc_lgd_lbl.fit_transform(data.df_activities)\n",
    "labels.shape"
   ]
  },
  {
   "cell_type": "code",
   "execution_count": null,
   "metadata": {},
   "outputs": [],
   "source": [
    "from pyadlml.dataset.plot.image import mean_image_per_activity\n",
    "\n",
    "X = images\n",
    "y = enc_lgd_lbl.inverse_transform(labels)\n",
    "\n",
    "mean_image_per_activity(X, y, data.devices)"
   ]
  },
  {
   "cell_type": "markdown",
   "metadata": {},
   "source": [
    "## Lagged Last Fired Encoder"
   ]
  },
  {
   "cell_type": "code",
   "execution_count": null,
   "metadata": {},
   "outputs": [],
   "source": [
    "from pyadlml.preprocessing import LaggedLastFiredEncoder\n",
    "window_size = 20\n",
    "t_res = '2min'\n",
    "sample_strat = 'int_coverage'\n",
    "idle=True\n",
    "\n",
    "\n",
    "enc_lgd_lf = LaggedLastFiredEncoder(window_size, t_res=t_res)\n",
    "images = enc_lgd_lf.fit_transform(data.df_devices)\n",
    "images.shape"
   ]
  },
  {
   "cell_type": "code",
   "execution_count": null,
   "metadata": {},
   "outputs": [],
   "source": [
    "from pyadlml.dataset.plot.image import mean_image\n",
    "\n",
    "mean_image(images, data.devices)"
   ]
  },
  {
   "cell_type": "code",
   "execution_count": null,
   "metadata": {},
   "outputs": [],
   "source": [
    "enc_lgd_lbl = LaggedLabelEncoder(data.df_devices,\n",
    "                                        window_size, \n",
    "                                        t_res=t_res,\n",
    "                                        idle=idle)\n",
    "\n",
    "labels = enc_lgd_lbl.fit_transform(data.df_activities)\n",
    "labels.shape"
   ]
  },
  {
   "cell_type": "code",
   "execution_count": null,
   "metadata": {},
   "outputs": [],
   "source": [
    "from pyadlml.dataset.plot.image import mean_image_per_activity\n",
    "\n",
    "X = images\n",
    "y = enc_lgd_lbl.inverse_transform(labels)\n",
    "\n",
    "mean_image_per_activity(X, y, data.devices)"
   ]
  }
 ],
 "metadata": {
  "kernelspec": {
   "display_name": "venv_pyadlml",
   "language": "python",
   "name": "venv_pyadlml"
  },
  "language_info": {
   "codemirror_mode": {
    "name": "ipython",
    "version": 3
   },
   "file_extension": ".py",
   "mimetype": "text/x-python",
   "name": "python",
   "nbconvert_exporter": "python",
   "pygments_lexer": "ipython3",
   "version": "3.9.0"
  }
 },
 "nbformat": 4,
 "nbformat_minor": 2
}
